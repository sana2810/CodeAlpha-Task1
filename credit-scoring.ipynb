{
 "cells": [
  {
   "cell_type": "markdown",
   "id": "64d23c06",
   "metadata": {
    "_cell_guid": "b1076dfc-b9ad-4769-8c92-a6c4dae69d19",
    "_uuid": "8f2839f25d086af736a60e9eeb907d3b93b6e0e5",
    "execution": {
     "iopub.execute_input": "2024-01-14T18:56:14.796076Z",
     "iopub.status.busy": "2024-01-14T18:56:14.795712Z",
     "iopub.status.idle": "2024-01-14T18:56:16.606066Z",
     "shell.execute_reply": "2024-01-14T18:56:16.604993Z",
     "shell.execute_reply.started": "2024-01-14T18:56:14.796042Z"
    },
    "papermill": {
     "duration": 0.014027,
     "end_time": "2024-01-22T14:38:20.173080",
     "exception": false,
     "start_time": "2024-01-22T14:38:20.159053",
     "status": "completed"
    },
    "tags": []
   },
   "source": [
    "# **Importing Python Libraries**"
   ]
  },
  {
   "cell_type": "code",
   "execution_count": 1,
   "id": "1eb4bdbf",
   "metadata": {
    "execution": {
     "iopub.execute_input": "2024-01-22T14:38:20.201480Z",
     "iopub.status.busy": "2024-01-22T14:38:20.201100Z",
     "iopub.status.idle": "2024-01-22T14:38:35.436514Z",
     "shell.execute_reply": "2024-01-22T14:38:35.435721Z"
    },
    "papermill": {
     "duration": 15.252292,
     "end_time": "2024-01-22T14:38:35.438895",
     "exception": false,
     "start_time": "2024-01-22T14:38:20.186603",
     "status": "completed"
    },
    "tags": []
   },
   "outputs": [
    {
     "name": "stderr",
     "output_type": "stream",
     "text": [
      "/opt/conda/lib/python3.10/site-packages/scipy/__init__.py:146: UserWarning: A NumPy version >=1.16.5 and <1.23.0 is required for this version of SciPy (detected version 1.24.3\n",
      "  warnings.warn(f\"A NumPy version >={np_minversion} and <{np_maxversion}\"\n"
     ]
    }
   ],
   "source": [
    "#importing python libraries\n",
    "import numpy as np \n",
    "import pandas as pd \n",
    "from sklearn.linear_model import LogisticRegression\n",
    "from sklearn.neighbors import KNeighborsClassifier\n",
    "from sklearn.naive_bayes import MultinomialNB\n",
    "from sklearn.tree import DecisionTreeClassifier\n",
    "from sklearn import tree\n",
    "from tensorflow.keras import Sequential\n",
    "from tensorflow.keras.layers import Dense\n",
    "from sklearn.ensemble import RandomForestClassifier\n",
    "from tensorflow.keras.utils import to_categorical\n",
    "import matplotlib.pyplot as plt\n",
    "from sklearn.preprocessing import LabelEncoder\n",
    "import seaborn as sns"
   ]
  },
  {
   "cell_type": "markdown",
   "id": "4b994ae6",
   "metadata": {
    "papermill": {
     "duration": 0.013739,
     "end_time": "2024-01-22T14:38:35.466916",
     "exception": false,
     "start_time": "2024-01-22T14:38:35.453177",
     "status": "completed"
    },
    "tags": []
   },
   "source": [
    "# **Importing train and test data**"
   ]
  },
  {
   "cell_type": "code",
   "execution_count": 2,
   "id": "15a24157",
   "metadata": {
    "execution": {
     "iopub.execute_input": "2024-01-22T14:38:35.497970Z",
     "iopub.status.busy": "2024-01-22T14:38:35.496785Z",
     "iopub.status.idle": "2024-01-22T14:38:35.545443Z",
     "shell.execute_reply": "2024-01-22T14:38:35.544534Z"
    },
    "papermill": {
     "duration": 0.065493,
     "end_time": "2024-01-22T14:38:35.547536",
     "exception": false,
     "start_time": "2024-01-22T14:38:35.482043",
     "status": "completed"
    },
    "tags": []
   },
   "outputs": [],
   "source": [
    "#importing the train and test dataset\n",
    "test=pd.read_csv('/kaggle/input/creditscoring-data/data_test.csv')\n",
    "train=pd.read_csv('/kaggle/input/creditscoring-data/data_train.csv')"
   ]
  },
  {
   "cell_type": "code",
   "execution_count": 3,
   "id": "87866a52",
   "metadata": {
    "execution": {
     "iopub.execute_input": "2024-01-22T14:38:35.577835Z",
     "iopub.status.busy": "2024-01-22T14:38:35.577012Z",
     "iopub.status.idle": "2024-01-22T14:38:35.582042Z",
     "shell.execute_reply": "2024-01-22T14:38:35.581181Z"
    },
    "papermill": {
     "duration": 0.022277,
     "end_time": "2024-01-22T14:38:35.584090",
     "exception": false,
     "start_time": "2024-01-22T14:38:35.561813",
     "status": "completed"
    },
    "tags": []
   },
   "outputs": [
    {
     "name": "stdout",
     "output_type": "stream",
     "text": [
      "shape of train data= (8707, 18)\n",
      "shape of test data= (48, 18)\n"
     ]
    }
   ],
   "source": [
    "#checking the number of rows and columns in each dataset\n",
    "print('shape of train data=',train.shape)\n",
    "print('shape of test data=',test.shape)"
   ]
  },
  {
   "cell_type": "markdown",
   "id": "509cd23e",
   "metadata": {
    "papermill": {
     "duration": 0.013691,
     "end_time": "2024-01-22T14:38:35.611920",
     "exception": false,
     "start_time": "2024-01-22T14:38:35.598229",
     "status": "completed"
    },
    "tags": []
   },
   "source": [
    "# **Exploratory Data Analysis**"
   ]
  },
  {
   "cell_type": "code",
   "execution_count": 4,
   "id": "2307ff64",
   "metadata": {
    "execution": {
     "iopub.execute_input": "2024-01-22T14:38:35.641220Z",
     "iopub.status.busy": "2024-01-22T14:38:35.640504Z",
     "iopub.status.idle": "2024-01-22T14:38:35.665461Z",
     "shell.execute_reply": "2024-01-22T14:38:35.664498Z"
    },
    "papermill": {
     "duration": 0.04209,
     "end_time": "2024-01-22T14:38:35.667650",
     "exception": false,
     "start_time": "2024-01-22T14:38:35.625560",
     "status": "completed"
    },
    "tags": []
   },
   "outputs": [
    {
     "data": {
      "text/html": [
       "<div>\n",
       "<style scoped>\n",
       "    .dataframe tbody tr th:only-of-type {\n",
       "        vertical-align: middle;\n",
       "    }\n",
       "\n",
       "    .dataframe tbody tr th {\n",
       "        vertical-align: top;\n",
       "    }\n",
       "\n",
       "    .dataframe thead th {\n",
       "        text-align: right;\n",
       "    }\n",
       "</style>\n",
       "<table border=\"1\" class=\"dataframe\">\n",
       "  <thead>\n",
       "    <tr style=\"text-align: right;\">\n",
       "      <th></th>\n",
       "      <th>label</th>\n",
       "      <th>Age</th>\n",
       "      <th>Language</th>\n",
       "      <th>Sex</th>\n",
       "      <th>Marital</th>\n",
       "      <th>Has_Credit</th>\n",
       "      <th>Field</th>\n",
       "      <th>Month_of_birth</th>\n",
       "      <th>Day_of_birth</th>\n",
       "      <th>Region</th>\n",
       "      <th>Number_of_credits</th>\n",
       "      <th>Linked_cards</th>\n",
       "      <th>INPS_mln_sum</th>\n",
       "      <th>INPS_yes_no</th>\n",
       "      <th>Score_level</th>\n",
       "      <th>Score_class</th>\n",
       "      <th>Score_point</th>\n",
       "      <th>Changed_phone_number</th>\n",
       "    </tr>\n",
       "  </thead>\n",
       "  <tbody>\n",
       "    <tr>\n",
       "      <th>0</th>\n",
       "      <td>0</td>\n",
       "      <td>34</td>\n",
       "      <td>1</td>\n",
       "      <td>2</td>\n",
       "      <td>6</td>\n",
       "      <td>2</td>\n",
       "      <td>13</td>\n",
       "      <td>12</td>\n",
       "      <td>1</td>\n",
       "      <td>12</td>\n",
       "      <td>1</td>\n",
       "      <td>0</td>\n",
       "      <td>0.0</td>\n",
       "      <td>0</td>\n",
       "      <td>0</td>\n",
       "      <td>0</td>\n",
       "      <td>-</td>\n",
       "      <td>1</td>\n",
       "    </tr>\n",
       "    <tr>\n",
       "      <th>1</th>\n",
       "      <td>0</td>\n",
       "      <td>38</td>\n",
       "      <td>1</td>\n",
       "      <td>1</td>\n",
       "      <td>5</td>\n",
       "      <td>1</td>\n",
       "      <td>10</td>\n",
       "      <td>7</td>\n",
       "      <td>1</td>\n",
       "      <td>13</td>\n",
       "      <td>1</td>\n",
       "      <td>2</td>\n",
       "      <td>0.0</td>\n",
       "      <td>0</td>\n",
       "      <td>0</td>\n",
       "      <td>0</td>\n",
       "      <td>-</td>\n",
       "      <td>1</td>\n",
       "    </tr>\n",
       "    <tr>\n",
       "      <th>2</th>\n",
       "      <td>0</td>\n",
       "      <td>35</td>\n",
       "      <td>1</td>\n",
       "      <td>2</td>\n",
       "      <td>4</td>\n",
       "      <td>2</td>\n",
       "      <td>9</td>\n",
       "      <td>8</td>\n",
       "      <td>1</td>\n",
       "      <td>13</td>\n",
       "      <td>4</td>\n",
       "      <td>1</td>\n",
       "      <td>1.0</td>\n",
       "      <td>1</td>\n",
       "      <td>0</td>\n",
       "      <td>0</td>\n",
       "      <td>-</td>\n",
       "      <td>1</td>\n",
       "    </tr>\n",
       "    <tr>\n",
       "      <th>3</th>\n",
       "      <td>0</td>\n",
       "      <td>27</td>\n",
       "      <td>1</td>\n",
       "      <td>1</td>\n",
       "      <td>5</td>\n",
       "      <td>2</td>\n",
       "      <td>13</td>\n",
       "      <td>7</td>\n",
       "      <td>1</td>\n",
       "      <td>12</td>\n",
       "      <td>1</td>\n",
       "      <td>2</td>\n",
       "      <td>1.0</td>\n",
       "      <td>0</td>\n",
       "      <td>0</td>\n",
       "      <td>0</td>\n",
       "      <td>-</td>\n",
       "      <td>1</td>\n",
       "    </tr>\n",
       "    <tr>\n",
       "      <th>4</th>\n",
       "      <td>0</td>\n",
       "      <td>32</td>\n",
       "      <td>1</td>\n",
       "      <td>2</td>\n",
       "      <td>4</td>\n",
       "      <td>2</td>\n",
       "      <td>10</td>\n",
       "      <td>7</td>\n",
       "      <td>1</td>\n",
       "      <td>13</td>\n",
       "      <td>3</td>\n",
       "      <td>1</td>\n",
       "      <td>2.0</td>\n",
       "      <td>1</td>\n",
       "      <td>0</td>\n",
       "      <td>0</td>\n",
       "      <td>-</td>\n",
       "      <td>1</td>\n",
       "    </tr>\n",
       "  </tbody>\n",
       "</table>\n",
       "</div>"
      ],
      "text/plain": [
       "   label  Age  Language  Sex  Marital  Has_Credit  Field  Month_of_birth  \\\n",
       "0      0   34         1    2        6           2     13              12   \n",
       "1      0   38         1    1        5           1     10               7   \n",
       "2      0   35         1    2        4           2      9               8   \n",
       "3      0   27         1    1        5           2     13               7   \n",
       "4      0   32         1    2        4           2     10               7   \n",
       "\n",
       "   Day_of_birth  Region  Number_of_credits  Linked_cards  INPS_mln_sum  \\\n",
       "0             1      12                  1             0           0.0   \n",
       "1             1      13                  1             2           0.0   \n",
       "2             1      13                  4             1           1.0   \n",
       "3             1      12                  1             2           1.0   \n",
       "4             1      13                  3             1           2.0   \n",
       "\n",
       "   INPS_yes_no  Score_level  Score_class Score_point  Changed_phone_number  \n",
       "0            0            0            0           -                     1  \n",
       "1            0            0            0           -                     1  \n",
       "2            1            0            0           -                     1  \n",
       "3            0            0            0           -                     1  \n",
       "4            1            0            0           -                     1  "
      ]
     },
     "execution_count": 4,
     "metadata": {},
     "output_type": "execute_result"
    }
   ],
   "source": [
    "train.head()"
   ]
  },
  {
   "cell_type": "code",
   "execution_count": 5,
   "id": "7095787f",
   "metadata": {
    "execution": {
     "iopub.execute_input": "2024-01-22T14:38:35.698853Z",
     "iopub.status.busy": "2024-01-22T14:38:35.698189Z",
     "iopub.status.idle": "2024-01-22T14:38:35.713964Z",
     "shell.execute_reply": "2024-01-22T14:38:35.713087Z"
    },
    "papermill": {
     "duration": 0.032834,
     "end_time": "2024-01-22T14:38:35.716161",
     "exception": false,
     "start_time": "2024-01-22T14:38:35.683327",
     "status": "completed"
    },
    "tags": []
   },
   "outputs": [
    {
     "data": {
      "text/html": [
       "<div>\n",
       "<style scoped>\n",
       "    .dataframe tbody tr th:only-of-type {\n",
       "        vertical-align: middle;\n",
       "    }\n",
       "\n",
       "    .dataframe tbody tr th {\n",
       "        vertical-align: top;\n",
       "    }\n",
       "\n",
       "    .dataframe thead th {\n",
       "        text-align: right;\n",
       "    }\n",
       "</style>\n",
       "<table border=\"1\" class=\"dataframe\">\n",
       "  <thead>\n",
       "    <tr style=\"text-align: right;\">\n",
       "      <th></th>\n",
       "      <th>label</th>\n",
       "      <th>Age</th>\n",
       "      <th>Language</th>\n",
       "      <th>Sex</th>\n",
       "      <th>Marital</th>\n",
       "      <th>Has_Credit</th>\n",
       "      <th>Field</th>\n",
       "      <th>Month_of_birth</th>\n",
       "      <th>Day_of_birth</th>\n",
       "      <th>Region</th>\n",
       "      <th>Number_of_credits</th>\n",
       "      <th>Linked_cards</th>\n",
       "      <th>INPS_mln_sum</th>\n",
       "      <th>INPS_yes_no</th>\n",
       "      <th>Score_level</th>\n",
       "      <th>Score_class</th>\n",
       "      <th>Score_point</th>\n",
       "      <th>Changed_phone_number</th>\n",
       "    </tr>\n",
       "  </thead>\n",
       "  <tbody>\n",
       "    <tr>\n",
       "      <th>0</th>\n",
       "      <td>0</td>\n",
       "      <td>40</td>\n",
       "      <td>1</td>\n",
       "      <td>2</td>\n",
       "      <td>4</td>\n",
       "      <td>1</td>\n",
       "      <td>0</td>\n",
       "      <td>3</td>\n",
       "      <td>1</td>\n",
       "      <td>12</td>\n",
       "      <td>2</td>\n",
       "      <td>1</td>\n",
       "      <td>2.4</td>\n",
       "      <td>1</td>\n",
       "      <td>0</td>\n",
       "      <td>0</td>\n",
       "      <td>-</td>\n",
       "      <td>1</td>\n",
       "    </tr>\n",
       "    <tr>\n",
       "      <th>1</th>\n",
       "      <td>0</td>\n",
       "      <td>36</td>\n",
       "      <td>2</td>\n",
       "      <td>2</td>\n",
       "      <td>4</td>\n",
       "      <td>1</td>\n",
       "      <td>0</td>\n",
       "      <td>5</td>\n",
       "      <td>1</td>\n",
       "      <td>13</td>\n",
       "      <td>1</td>\n",
       "      <td>2</td>\n",
       "      <td>0.0</td>\n",
       "      <td>1</td>\n",
       "      <td>0</td>\n",
       "      <td>0</td>\n",
       "      <td>-</td>\n",
       "      <td>1</td>\n",
       "    </tr>\n",
       "    <tr>\n",
       "      <th>2</th>\n",
       "      <td>0</td>\n",
       "      <td>31</td>\n",
       "      <td>1</td>\n",
       "      <td>2</td>\n",
       "      <td>4</td>\n",
       "      <td>1</td>\n",
       "      <td>0</td>\n",
       "      <td>7</td>\n",
       "      <td>1</td>\n",
       "      <td>13</td>\n",
       "      <td>1</td>\n",
       "      <td>1</td>\n",
       "      <td>0.3</td>\n",
       "      <td>0</td>\n",
       "      <td>0</td>\n",
       "      <td>0</td>\n",
       "      <td>-</td>\n",
       "      <td>2</td>\n",
       "    </tr>\n",
       "    <tr>\n",
       "      <th>3</th>\n",
       "      <td>0</td>\n",
       "      <td>29</td>\n",
       "      <td>1</td>\n",
       "      <td>2</td>\n",
       "      <td>4</td>\n",
       "      <td>1</td>\n",
       "      <td>0</td>\n",
       "      <td>1</td>\n",
       "      <td>1</td>\n",
       "      <td>13</td>\n",
       "      <td>1</td>\n",
       "      <td>1</td>\n",
       "      <td>0.9</td>\n",
       "      <td>1</td>\n",
       "      <td>0</td>\n",
       "      <td>0</td>\n",
       "      <td>-</td>\n",
       "      <td>1</td>\n",
       "    </tr>\n",
       "    <tr>\n",
       "      <th>4</th>\n",
       "      <td>0</td>\n",
       "      <td>38</td>\n",
       "      <td>1</td>\n",
       "      <td>2</td>\n",
       "      <td>4</td>\n",
       "      <td>1</td>\n",
       "      <td>0</td>\n",
       "      <td>10</td>\n",
       "      <td>1</td>\n",
       "      <td>13</td>\n",
       "      <td>1</td>\n",
       "      <td>2</td>\n",
       "      <td>4.3</td>\n",
       "      <td>0</td>\n",
       "      <td>4</td>\n",
       "      <td>2</td>\n",
       "      <td>318</td>\n",
       "      <td>1</td>\n",
       "    </tr>\n",
       "  </tbody>\n",
       "</table>\n",
       "</div>"
      ],
      "text/plain": [
       "   label  Age  Language  Sex  Marital  Has_Credit  Field  Month_of_birth  \\\n",
       "0      0   40         1    2        4           1      0               3   \n",
       "1      0   36         2    2        4           1      0               5   \n",
       "2      0   31         1    2        4           1      0               7   \n",
       "3      0   29         1    2        4           1      0               1   \n",
       "4      0   38         1    2        4           1      0              10   \n",
       "\n",
       "   Day_of_birth  Region  Number_of_credits  Linked_cards  INPS_mln_sum  \\\n",
       "0             1      12                  2             1           2.4   \n",
       "1             1      13                  1             2           0.0   \n",
       "2             1      13                  1             1           0.3   \n",
       "3             1      13                  1             1           0.9   \n",
       "4             1      13                  1             2           4.3   \n",
       "\n",
       "   INPS_yes_no  Score_level  Score_class Score_point  Changed_phone_number  \n",
       "0            1            0            0           -                     1  \n",
       "1            1            0            0           -                     1  \n",
       "2            0            0            0           -                     2  \n",
       "3            1            0            0           -                     1  \n",
       "4            0            4            2         318                     1  "
      ]
     },
     "execution_count": 5,
     "metadata": {},
     "output_type": "execute_result"
    }
   ],
   "source": [
    "test.head()"
   ]
  },
  {
   "cell_type": "code",
   "execution_count": 6,
   "id": "fcdbf07d",
   "metadata": {
    "execution": {
     "iopub.execute_input": "2024-01-22T14:38:35.747846Z",
     "iopub.status.busy": "2024-01-22T14:38:35.747185Z",
     "iopub.status.idle": "2024-01-22T14:38:35.756567Z",
     "shell.execute_reply": "2024-01-22T14:38:35.755729Z"
    },
    "papermill": {
     "duration": 0.027065,
     "end_time": "2024-01-22T14:38:35.758581",
     "exception": false,
     "start_time": "2024-01-22T14:38:35.731516",
     "status": "completed"
    },
    "tags": []
   },
   "outputs": [
    {
     "data": {
      "text/plain": [
       "label                   0\n",
       "Age                     0\n",
       "Language                0\n",
       "Sex                     0\n",
       "Marital                 0\n",
       "Has_Credit              0\n",
       "Field                   0\n",
       "Month_of_birth          0\n",
       "Day_of_birth            0\n",
       "Region                  0\n",
       "Number_of_credits       0\n",
       "Linked_cards            0\n",
       "INPS_mln_sum            0\n",
       "INPS_yes_no             0\n",
       "Score_level             0\n",
       "Score_class             0\n",
       "Score_point             0\n",
       "Changed_phone_number    0\n",
       "dtype: int64"
      ]
     },
     "execution_count": 6,
     "metadata": {},
     "output_type": "execute_result"
    }
   ],
   "source": [
    "#checking if there are any null values in the train data\n",
    "train.isna().sum()"
   ]
  },
  {
   "cell_type": "code",
   "execution_count": 7,
   "id": "f489e1c7",
   "metadata": {
    "execution": {
     "iopub.execute_input": "2024-01-22T14:38:35.830157Z",
     "iopub.status.busy": "2024-01-22T14:38:35.829313Z",
     "iopub.status.idle": "2024-01-22T14:38:35.837441Z",
     "shell.execute_reply": "2024-01-22T14:38:35.836507Z"
    },
    "papermill": {
     "duration": 0.066111,
     "end_time": "2024-01-22T14:38:35.839336",
     "exception": false,
     "start_time": "2024-01-22T14:38:35.773225",
     "status": "completed"
    },
    "tags": []
   },
   "outputs": [
    {
     "data": {
      "text/plain": [
       "label                   0\n",
       "Age                     0\n",
       "Language                0\n",
       "Sex                     0\n",
       "Marital                 0\n",
       "Has_Credit              0\n",
       "Field                   0\n",
       "Month_of_birth          0\n",
       "Day_of_birth            0\n",
       "Region                  0\n",
       "Number_of_credits       0\n",
       "Linked_cards            0\n",
       "INPS_mln_sum            0\n",
       "INPS_yes_no             0\n",
       "Score_level             0\n",
       "Score_class             0\n",
       "Score_point             0\n",
       "Changed_phone_number    0\n",
       "dtype: int64"
      ]
     },
     "execution_count": 7,
     "metadata": {},
     "output_type": "execute_result"
    }
   ],
   "source": [
    "#checking for null values in test data\n",
    "test.isna().sum()"
   ]
  },
  {
   "cell_type": "code",
   "execution_count": 8,
   "id": "e96945b6",
   "metadata": {
    "execution": {
     "iopub.execute_input": "2024-01-22T14:38:35.870060Z",
     "iopub.status.busy": "2024-01-22T14:38:35.869555Z",
     "iopub.status.idle": "2024-01-22T14:38:35.873527Z",
     "shell.execute_reply": "2024-01-22T14:38:35.872546Z"
    },
    "papermill": {
     "duration": 0.021308,
     "end_time": "2024-01-22T14:38:35.875531",
     "exception": false,
     "start_time": "2024-01-22T14:38:35.854223",
     "status": "completed"
    },
    "tags": []
   },
   "outputs": [],
   "source": [
    "#making an array for the columns\n",
    "col=np.array(train.columns)"
   ]
  },
  {
   "cell_type": "code",
   "execution_count": 9,
   "id": "3deb6dab",
   "metadata": {
    "execution": {
     "iopub.execute_input": "2024-01-22T14:38:35.907041Z",
     "iopub.status.busy": "2024-01-22T14:38:35.906462Z",
     "iopub.status.idle": "2024-01-22T14:38:35.921084Z",
     "shell.execute_reply": "2024-01-22T14:38:35.920321Z"
    },
    "papermill": {
     "duration": 0.032597,
     "end_time": "2024-01-22T14:38:35.923225",
     "exception": false,
     "start_time": "2024-01-22T14:38:35.890628",
     "status": "completed"
    },
    "tags": []
   },
   "outputs": [],
   "source": [
    "# in order to convert the '-' into numeric 0\n",
    "score=train['Score_point']\n",
    "score=pd.to_numeric(score,errors='coerce').fillna(0)"
   ]
  },
  {
   "cell_type": "code",
   "execution_count": 10,
   "id": "9fa75741",
   "metadata": {
    "execution": {
     "iopub.execute_input": "2024-01-22T14:38:35.954529Z",
     "iopub.status.busy": "2024-01-22T14:38:35.953993Z",
     "iopub.status.idle": "2024-01-22T14:38:35.961573Z",
     "shell.execute_reply": "2024-01-22T14:38:35.960741Z"
    },
    "papermill": {
     "duration": 0.024729,
     "end_time": "2024-01-22T14:38:35.963417",
     "exception": false,
     "start_time": "2024-01-22T14:38:35.938688",
     "status": "completed"
    },
    "tags": []
   },
   "outputs": [],
   "source": [
    "#converting categorical data to numerical data\n",
    "le=LabelEncoder()\n",
    "train['Score_point']=le.fit_transform(train['Score_point'])\n",
    "le=LabelEncoder()\n",
    "test['Score_point']=le.fit_transform(test['Score_point'])"
   ]
  },
  {
   "cell_type": "code",
   "execution_count": 11,
   "id": "9d6089a7",
   "metadata": {
    "execution": {
     "iopub.execute_input": "2024-01-22T14:38:35.994059Z",
     "iopub.status.busy": "2024-01-22T14:38:35.993780Z",
     "iopub.status.idle": "2024-01-22T14:38:36.038591Z",
     "shell.execute_reply": "2024-01-22T14:38:36.037787Z"
    },
    "papermill": {
     "duration": 0.062805,
     "end_time": "2024-01-22T14:38:36.040679",
     "exception": false,
     "start_time": "2024-01-22T14:38:35.977874",
     "status": "completed"
    },
    "tags": []
   },
   "outputs": [
    {
     "data": {
      "text/html": [
       "<div>\n",
       "<style scoped>\n",
       "    .dataframe tbody tr th:only-of-type {\n",
       "        vertical-align: middle;\n",
       "    }\n",
       "\n",
       "    .dataframe tbody tr th {\n",
       "        vertical-align: top;\n",
       "    }\n",
       "\n",
       "    .dataframe thead th {\n",
       "        text-align: right;\n",
       "    }\n",
       "</style>\n",
       "<table border=\"1\" class=\"dataframe\">\n",
       "  <thead>\n",
       "    <tr style=\"text-align: right;\">\n",
       "      <th></th>\n",
       "      <th>label</th>\n",
       "      <th>Age</th>\n",
       "      <th>Language</th>\n",
       "      <th>Sex</th>\n",
       "      <th>Marital</th>\n",
       "      <th>Has_Credit</th>\n",
       "      <th>Field</th>\n",
       "      <th>Month_of_birth</th>\n",
       "      <th>Day_of_birth</th>\n",
       "      <th>Region</th>\n",
       "      <th>Number_of_credits</th>\n",
       "      <th>Linked_cards</th>\n",
       "      <th>INPS_mln_sum</th>\n",
       "      <th>INPS_yes_no</th>\n",
       "      <th>Score_level</th>\n",
       "      <th>Score_class</th>\n",
       "      <th>Score_point</th>\n",
       "      <th>Changed_phone_number</th>\n",
       "    </tr>\n",
       "  </thead>\n",
       "  <tbody>\n",
       "    <tr>\n",
       "      <th>label</th>\n",
       "      <td>1.000000</td>\n",
       "      <td>0.123461</td>\n",
       "      <td>0.014345</td>\n",
       "      <td>-0.051501</td>\n",
       "      <td>-0.039957</td>\n",
       "      <td>-0.013534</td>\n",
       "      <td>0.530324</td>\n",
       "      <td>0.001617</td>\n",
       "      <td>0.190716</td>\n",
       "      <td>-0.005306</td>\n",
       "      <td>-0.072519</td>\n",
       "      <td>-0.135919</td>\n",
       "      <td>0.054180</td>\n",
       "      <td>0.543770</td>\n",
       "      <td>0.047349</td>\n",
       "      <td>0.037060</td>\n",
       "      <td>0.059023</td>\n",
       "      <td>-0.820768</td>\n",
       "    </tr>\n",
       "    <tr>\n",
       "      <th>Age</th>\n",
       "      <td>0.123461</td>\n",
       "      <td>1.000000</td>\n",
       "      <td>0.040512</td>\n",
       "      <td>-0.227971</td>\n",
       "      <td>-0.283462</td>\n",
       "      <td>-0.014417</td>\n",
       "      <td>0.239177</td>\n",
       "      <td>-0.003929</td>\n",
       "      <td>0.030913</td>\n",
       "      <td>0.031262</td>\n",
       "      <td>0.009925</td>\n",
       "      <td>0.036998</td>\n",
       "      <td>0.007822</td>\n",
       "      <td>0.046266</td>\n",
       "      <td>0.130661</td>\n",
       "      <td>0.095699</td>\n",
       "      <td>0.123256</td>\n",
       "      <td>-0.117304</td>\n",
       "    </tr>\n",
       "    <tr>\n",
       "      <th>Language</th>\n",
       "      <td>0.014345</td>\n",
       "      <td>0.040512</td>\n",
       "      <td>1.000000</td>\n",
       "      <td>-0.032256</td>\n",
       "      <td>-0.007205</td>\n",
       "      <td>-0.048083</td>\n",
       "      <td>-0.002069</td>\n",
       "      <td>0.015089</td>\n",
       "      <td>0.003632</td>\n",
       "      <td>0.075075</td>\n",
       "      <td>0.046960</td>\n",
       "      <td>0.010812</td>\n",
       "      <td>-0.004001</td>\n",
       "      <td>0.034626</td>\n",
       "      <td>-0.034816</td>\n",
       "      <td>-0.030085</td>\n",
       "      <td>-0.029291</td>\n",
       "      <td>-0.010279</td>\n",
       "    </tr>\n",
       "    <tr>\n",
       "      <th>Sex</th>\n",
       "      <td>-0.051501</td>\n",
       "      <td>-0.227971</td>\n",
       "      <td>-0.032256</td>\n",
       "      <td>1.000000</td>\n",
       "      <td>-0.243037</td>\n",
       "      <td>-0.006288</td>\n",
       "      <td>-0.221835</td>\n",
       "      <td>-0.000964</td>\n",
       "      <td>-0.015630</td>\n",
       "      <td>-0.024944</td>\n",
       "      <td>0.008876</td>\n",
       "      <td>-0.034225</td>\n",
       "      <td>-0.016264</td>\n",
       "      <td>-0.026638</td>\n",
       "      <td>-0.012416</td>\n",
       "      <td>-0.004048</td>\n",
       "      <td>-0.019218</td>\n",
       "      <td>0.048469</td>\n",
       "    </tr>\n",
       "    <tr>\n",
       "      <th>Marital</th>\n",
       "      <td>-0.039957</td>\n",
       "      <td>-0.283462</td>\n",
       "      <td>-0.007205</td>\n",
       "      <td>-0.243037</td>\n",
       "      <td>1.000000</td>\n",
       "      <td>0.030411</td>\n",
       "      <td>0.016817</td>\n",
       "      <td>0.018724</td>\n",
       "      <td>-0.006846</td>\n",
       "      <td>-0.016744</td>\n",
       "      <td>-0.017860</td>\n",
       "      <td>-0.007904</td>\n",
       "      <td>-0.000283</td>\n",
       "      <td>-0.026435</td>\n",
       "      <td>-0.059917</td>\n",
       "      <td>-0.055429</td>\n",
       "      <td>-0.059988</td>\n",
       "      <td>0.038050</td>\n",
       "    </tr>\n",
       "    <tr>\n",
       "      <th>Has_Credit</th>\n",
       "      <td>-0.013534</td>\n",
       "      <td>-0.014417</td>\n",
       "      <td>-0.048083</td>\n",
       "      <td>-0.006288</td>\n",
       "      <td>0.030411</td>\n",
       "      <td>1.000000</td>\n",
       "      <td>-0.005047</td>\n",
       "      <td>0.020932</td>\n",
       "      <td>-0.006464</td>\n",
       "      <td>0.051867</td>\n",
       "      <td>0.134337</td>\n",
       "      <td>-0.025098</td>\n",
       "      <td>-0.021449</td>\n",
       "      <td>-0.155647</td>\n",
       "      <td>-0.057921</td>\n",
       "      <td>-0.057047</td>\n",
       "      <td>-0.055951</td>\n",
       "      <td>0.001375</td>\n",
       "    </tr>\n",
       "    <tr>\n",
       "      <th>Field</th>\n",
       "      <td>0.530324</td>\n",
       "      <td>0.239177</td>\n",
       "      <td>-0.002069</td>\n",
       "      <td>-0.221835</td>\n",
       "      <td>0.016817</td>\n",
       "      <td>-0.005047</td>\n",
       "      <td>1.000000</td>\n",
       "      <td>-0.009669</td>\n",
       "      <td>0.095333</td>\n",
       "      <td>-0.032443</td>\n",
       "      <td>-0.066323</td>\n",
       "      <td>-0.076464</td>\n",
       "      <td>0.039892</td>\n",
       "      <td>0.294541</td>\n",
       "      <td>0.027281</td>\n",
       "      <td>0.015345</td>\n",
       "      <td>0.035903</td>\n",
       "      <td>-0.441427</td>\n",
       "    </tr>\n",
       "    <tr>\n",
       "      <th>Month_of_birth</th>\n",
       "      <td>0.001617</td>\n",
       "      <td>-0.003929</td>\n",
       "      <td>0.015089</td>\n",
       "      <td>-0.000964</td>\n",
       "      <td>0.018724</td>\n",
       "      <td>0.020932</td>\n",
       "      <td>-0.009669</td>\n",
       "      <td>1.000000</td>\n",
       "      <td>-0.004538</td>\n",
       "      <td>-0.006085</td>\n",
       "      <td>0.004101</td>\n",
       "      <td>-0.000838</td>\n",
       "      <td>-0.008204</td>\n",
       "      <td>-0.005932</td>\n",
       "      <td>-0.010995</td>\n",
       "      <td>-0.013739</td>\n",
       "      <td>-0.014045</td>\n",
       "      <td>0.004093</td>\n",
       "    </tr>\n",
       "    <tr>\n",
       "      <th>Day_of_birth</th>\n",
       "      <td>0.190716</td>\n",
       "      <td>0.030913</td>\n",
       "      <td>0.003632</td>\n",
       "      <td>-0.015630</td>\n",
       "      <td>-0.006846</td>\n",
       "      <td>-0.006464</td>\n",
       "      <td>0.095333</td>\n",
       "      <td>-0.004538</td>\n",
       "      <td>1.000000</td>\n",
       "      <td>0.000326</td>\n",
       "      <td>-0.026389</td>\n",
       "      <td>-0.013717</td>\n",
       "      <td>0.013210</td>\n",
       "      <td>0.109631</td>\n",
       "      <td>0.010815</td>\n",
       "      <td>0.001109</td>\n",
       "      <td>0.016799</td>\n",
       "      <td>-0.154565</td>\n",
       "    </tr>\n",
       "    <tr>\n",
       "      <th>Region</th>\n",
       "      <td>-0.005306</td>\n",
       "      <td>0.031262</td>\n",
       "      <td>0.075075</td>\n",
       "      <td>-0.024944</td>\n",
       "      <td>-0.016744</td>\n",
       "      <td>0.051867</td>\n",
       "      <td>-0.032443</td>\n",
       "      <td>-0.006085</td>\n",
       "      <td>0.000326</td>\n",
       "      <td>1.000000</td>\n",
       "      <td>0.039482</td>\n",
       "      <td>-0.007468</td>\n",
       "      <td>0.016581</td>\n",
       "      <td>-0.003269</td>\n",
       "      <td>-0.089168</td>\n",
       "      <td>-0.093514</td>\n",
       "      <td>-0.090182</td>\n",
       "      <td>0.014111</td>\n",
       "    </tr>\n",
       "    <tr>\n",
       "      <th>Number_of_credits</th>\n",
       "      <td>-0.072519</td>\n",
       "      <td>0.009925</td>\n",
       "      <td>0.046960</td>\n",
       "      <td>0.008876</td>\n",
       "      <td>-0.017860</td>\n",
       "      <td>0.134337</td>\n",
       "      <td>-0.066323</td>\n",
       "      <td>0.004101</td>\n",
       "      <td>-0.026389</td>\n",
       "      <td>0.039482</td>\n",
       "      <td>1.000000</td>\n",
       "      <td>0.032592</td>\n",
       "      <td>-0.005296</td>\n",
       "      <td>-0.061575</td>\n",
       "      <td>-0.033136</td>\n",
       "      <td>-0.034708</td>\n",
       "      <td>-0.030593</td>\n",
       "      <td>0.101885</td>\n",
       "    </tr>\n",
       "    <tr>\n",
       "      <th>Linked_cards</th>\n",
       "      <td>-0.135919</td>\n",
       "      <td>0.036998</td>\n",
       "      <td>0.010812</td>\n",
       "      <td>-0.034225</td>\n",
       "      <td>-0.007904</td>\n",
       "      <td>-0.025098</td>\n",
       "      <td>-0.076464</td>\n",
       "      <td>-0.000838</td>\n",
       "      <td>-0.013717</td>\n",
       "      <td>-0.007468</td>\n",
       "      <td>0.032592</td>\n",
       "      <td>1.000000</td>\n",
       "      <td>0.005895</td>\n",
       "      <td>-0.057230</td>\n",
       "      <td>0.077194</td>\n",
       "      <td>0.081310</td>\n",
       "      <td>0.072240</td>\n",
       "      <td>0.129669</td>\n",
       "    </tr>\n",
       "    <tr>\n",
       "      <th>INPS_mln_sum</th>\n",
       "      <td>0.054180</td>\n",
       "      <td>0.007822</td>\n",
       "      <td>-0.004001</td>\n",
       "      <td>-0.016264</td>\n",
       "      <td>-0.000283</td>\n",
       "      <td>-0.021449</td>\n",
       "      <td>0.039892</td>\n",
       "      <td>-0.008204</td>\n",
       "      <td>0.013210</td>\n",
       "      <td>0.016581</td>\n",
       "      <td>-0.005296</td>\n",
       "      <td>0.005895</td>\n",
       "      <td>1.000000</td>\n",
       "      <td>0.085048</td>\n",
       "      <td>0.013955</td>\n",
       "      <td>0.023874</td>\n",
       "      <td>0.010998</td>\n",
       "      <td>-0.042001</td>\n",
       "    </tr>\n",
       "    <tr>\n",
       "      <th>INPS_yes_no</th>\n",
       "      <td>0.543770</td>\n",
       "      <td>0.046266</td>\n",
       "      <td>0.034626</td>\n",
       "      <td>-0.026638</td>\n",
       "      <td>-0.026435</td>\n",
       "      <td>-0.155647</td>\n",
       "      <td>0.294541</td>\n",
       "      <td>-0.005932</td>\n",
       "      <td>0.109631</td>\n",
       "      <td>-0.003269</td>\n",
       "      <td>-0.061575</td>\n",
       "      <td>-0.057230</td>\n",
       "      <td>0.085048</td>\n",
       "      <td>1.000000</td>\n",
       "      <td>-0.056633</td>\n",
       "      <td>-0.068013</td>\n",
       "      <td>-0.040798</td>\n",
       "      <td>-0.445618</td>\n",
       "    </tr>\n",
       "    <tr>\n",
       "      <th>Score_level</th>\n",
       "      <td>0.047349</td>\n",
       "      <td>0.130661</td>\n",
       "      <td>-0.034816</td>\n",
       "      <td>-0.012416</td>\n",
       "      <td>-0.059917</td>\n",
       "      <td>-0.057921</td>\n",
       "      <td>0.027281</td>\n",
       "      <td>-0.010995</td>\n",
       "      <td>0.010815</td>\n",
       "      <td>-0.089168</td>\n",
       "      <td>-0.033136</td>\n",
       "      <td>0.077194</td>\n",
       "      <td>0.013955</td>\n",
       "      <td>-0.056633</td>\n",
       "      <td>1.000000</td>\n",
       "      <td>0.902154</td>\n",
       "      <td>0.970577</td>\n",
       "      <td>-0.034831</td>\n",
       "    </tr>\n",
       "    <tr>\n",
       "      <th>Score_class</th>\n",
       "      <td>0.037060</td>\n",
       "      <td>0.095699</td>\n",
       "      <td>-0.030085</td>\n",
       "      <td>-0.004048</td>\n",
       "      <td>-0.055429</td>\n",
       "      <td>-0.057047</td>\n",
       "      <td>0.015345</td>\n",
       "      <td>-0.013739</td>\n",
       "      <td>0.001109</td>\n",
       "      <td>-0.093514</td>\n",
       "      <td>-0.034708</td>\n",
       "      <td>0.081310</td>\n",
       "      <td>0.023874</td>\n",
       "      <td>-0.068013</td>\n",
       "      <td>0.902154</td>\n",
       "      <td>1.000000</td>\n",
       "      <td>0.874802</td>\n",
       "      <td>-0.023549</td>\n",
       "    </tr>\n",
       "    <tr>\n",
       "      <th>Score_point</th>\n",
       "      <td>0.059023</td>\n",
       "      <td>0.123256</td>\n",
       "      <td>-0.029291</td>\n",
       "      <td>-0.019218</td>\n",
       "      <td>-0.059988</td>\n",
       "      <td>-0.055951</td>\n",
       "      <td>0.035903</td>\n",
       "      <td>-0.014045</td>\n",
       "      <td>0.016799</td>\n",
       "      <td>-0.090182</td>\n",
       "      <td>-0.030593</td>\n",
       "      <td>0.072240</td>\n",
       "      <td>0.010998</td>\n",
       "      <td>-0.040798</td>\n",
       "      <td>0.970577</td>\n",
       "      <td>0.874802</td>\n",
       "      <td>1.000000</td>\n",
       "      <td>-0.045695</td>\n",
       "    </tr>\n",
       "    <tr>\n",
       "      <th>Changed_phone_number</th>\n",
       "      <td>-0.820768</td>\n",
       "      <td>-0.117304</td>\n",
       "      <td>-0.010279</td>\n",
       "      <td>0.048469</td>\n",
       "      <td>0.038050</td>\n",
       "      <td>0.001375</td>\n",
       "      <td>-0.441427</td>\n",
       "      <td>0.004093</td>\n",
       "      <td>-0.154565</td>\n",
       "      <td>0.014111</td>\n",
       "      <td>0.101885</td>\n",
       "      <td>0.129669</td>\n",
       "      <td>-0.042001</td>\n",
       "      <td>-0.445618</td>\n",
       "      <td>-0.034831</td>\n",
       "      <td>-0.023549</td>\n",
       "      <td>-0.045695</td>\n",
       "      <td>1.000000</td>\n",
       "    </tr>\n",
       "  </tbody>\n",
       "</table>\n",
       "</div>"
      ],
      "text/plain": [
       "                         label       Age  Language       Sex   Marital  \\\n",
       "label                 1.000000  0.123461  0.014345 -0.051501 -0.039957   \n",
       "Age                   0.123461  1.000000  0.040512 -0.227971 -0.283462   \n",
       "Language              0.014345  0.040512  1.000000 -0.032256 -0.007205   \n",
       "Sex                  -0.051501 -0.227971 -0.032256  1.000000 -0.243037   \n",
       "Marital              -0.039957 -0.283462 -0.007205 -0.243037  1.000000   \n",
       "Has_Credit           -0.013534 -0.014417 -0.048083 -0.006288  0.030411   \n",
       "Field                 0.530324  0.239177 -0.002069 -0.221835  0.016817   \n",
       "Month_of_birth        0.001617 -0.003929  0.015089 -0.000964  0.018724   \n",
       "Day_of_birth          0.190716  0.030913  0.003632 -0.015630 -0.006846   \n",
       "Region               -0.005306  0.031262  0.075075 -0.024944 -0.016744   \n",
       "Number_of_credits    -0.072519  0.009925  0.046960  0.008876 -0.017860   \n",
       "Linked_cards         -0.135919  0.036998  0.010812 -0.034225 -0.007904   \n",
       "INPS_mln_sum          0.054180  0.007822 -0.004001 -0.016264 -0.000283   \n",
       "INPS_yes_no           0.543770  0.046266  0.034626 -0.026638 -0.026435   \n",
       "Score_level           0.047349  0.130661 -0.034816 -0.012416 -0.059917   \n",
       "Score_class           0.037060  0.095699 -0.030085 -0.004048 -0.055429   \n",
       "Score_point           0.059023  0.123256 -0.029291 -0.019218 -0.059988   \n",
       "Changed_phone_number -0.820768 -0.117304 -0.010279  0.048469  0.038050   \n",
       "\n",
       "                      Has_Credit     Field  Month_of_birth  Day_of_birth  \\\n",
       "label                  -0.013534  0.530324        0.001617      0.190716   \n",
       "Age                    -0.014417  0.239177       -0.003929      0.030913   \n",
       "Language               -0.048083 -0.002069        0.015089      0.003632   \n",
       "Sex                    -0.006288 -0.221835       -0.000964     -0.015630   \n",
       "Marital                 0.030411  0.016817        0.018724     -0.006846   \n",
       "Has_Credit              1.000000 -0.005047        0.020932     -0.006464   \n",
       "Field                  -0.005047  1.000000       -0.009669      0.095333   \n",
       "Month_of_birth          0.020932 -0.009669        1.000000     -0.004538   \n",
       "Day_of_birth           -0.006464  0.095333       -0.004538      1.000000   \n",
       "Region                  0.051867 -0.032443       -0.006085      0.000326   \n",
       "Number_of_credits       0.134337 -0.066323        0.004101     -0.026389   \n",
       "Linked_cards           -0.025098 -0.076464       -0.000838     -0.013717   \n",
       "INPS_mln_sum           -0.021449  0.039892       -0.008204      0.013210   \n",
       "INPS_yes_no            -0.155647  0.294541       -0.005932      0.109631   \n",
       "Score_level            -0.057921  0.027281       -0.010995      0.010815   \n",
       "Score_class            -0.057047  0.015345       -0.013739      0.001109   \n",
       "Score_point            -0.055951  0.035903       -0.014045      0.016799   \n",
       "Changed_phone_number    0.001375 -0.441427        0.004093     -0.154565   \n",
       "\n",
       "                        Region  Number_of_credits  Linked_cards  INPS_mln_sum  \\\n",
       "label                -0.005306          -0.072519     -0.135919      0.054180   \n",
       "Age                   0.031262           0.009925      0.036998      0.007822   \n",
       "Language              0.075075           0.046960      0.010812     -0.004001   \n",
       "Sex                  -0.024944           0.008876     -0.034225     -0.016264   \n",
       "Marital              -0.016744          -0.017860     -0.007904     -0.000283   \n",
       "Has_Credit            0.051867           0.134337     -0.025098     -0.021449   \n",
       "Field                -0.032443          -0.066323     -0.076464      0.039892   \n",
       "Month_of_birth       -0.006085           0.004101     -0.000838     -0.008204   \n",
       "Day_of_birth          0.000326          -0.026389     -0.013717      0.013210   \n",
       "Region                1.000000           0.039482     -0.007468      0.016581   \n",
       "Number_of_credits     0.039482           1.000000      0.032592     -0.005296   \n",
       "Linked_cards         -0.007468           0.032592      1.000000      0.005895   \n",
       "INPS_mln_sum          0.016581          -0.005296      0.005895      1.000000   \n",
       "INPS_yes_no          -0.003269          -0.061575     -0.057230      0.085048   \n",
       "Score_level          -0.089168          -0.033136      0.077194      0.013955   \n",
       "Score_class          -0.093514          -0.034708      0.081310      0.023874   \n",
       "Score_point          -0.090182          -0.030593      0.072240      0.010998   \n",
       "Changed_phone_number  0.014111           0.101885      0.129669     -0.042001   \n",
       "\n",
       "                      INPS_yes_no  Score_level  Score_class  Score_point  \\\n",
       "label                    0.543770     0.047349     0.037060     0.059023   \n",
       "Age                      0.046266     0.130661     0.095699     0.123256   \n",
       "Language                 0.034626    -0.034816    -0.030085    -0.029291   \n",
       "Sex                     -0.026638    -0.012416    -0.004048    -0.019218   \n",
       "Marital                 -0.026435    -0.059917    -0.055429    -0.059988   \n",
       "Has_Credit              -0.155647    -0.057921    -0.057047    -0.055951   \n",
       "Field                    0.294541     0.027281     0.015345     0.035903   \n",
       "Month_of_birth          -0.005932    -0.010995    -0.013739    -0.014045   \n",
       "Day_of_birth             0.109631     0.010815     0.001109     0.016799   \n",
       "Region                  -0.003269    -0.089168    -0.093514    -0.090182   \n",
       "Number_of_credits       -0.061575    -0.033136    -0.034708    -0.030593   \n",
       "Linked_cards            -0.057230     0.077194     0.081310     0.072240   \n",
       "INPS_mln_sum             0.085048     0.013955     0.023874     0.010998   \n",
       "INPS_yes_no              1.000000    -0.056633    -0.068013    -0.040798   \n",
       "Score_level             -0.056633     1.000000     0.902154     0.970577   \n",
       "Score_class             -0.068013     0.902154     1.000000     0.874802   \n",
       "Score_point             -0.040798     0.970577     0.874802     1.000000   \n",
       "Changed_phone_number    -0.445618    -0.034831    -0.023549    -0.045695   \n",
       "\n",
       "                      Changed_phone_number  \n",
       "label                            -0.820768  \n",
       "Age                              -0.117304  \n",
       "Language                         -0.010279  \n",
       "Sex                               0.048469  \n",
       "Marital                           0.038050  \n",
       "Has_Credit                        0.001375  \n",
       "Field                            -0.441427  \n",
       "Month_of_birth                    0.004093  \n",
       "Day_of_birth                     -0.154565  \n",
       "Region                            0.014111  \n",
       "Number_of_credits                 0.101885  \n",
       "Linked_cards                      0.129669  \n",
       "INPS_mln_sum                     -0.042001  \n",
       "INPS_yes_no                      -0.445618  \n",
       "Score_level                      -0.034831  \n",
       "Score_class                      -0.023549  \n",
       "Score_point                      -0.045695  \n",
       "Changed_phone_number              1.000000  "
      ]
     },
     "execution_count": 11,
     "metadata": {},
     "output_type": "execute_result"
    }
   ],
   "source": [
    "#forming a correlation matrix\n",
    "train[col].corr()"
   ]
  },
  {
   "cell_type": "code",
   "execution_count": 12,
   "id": "97b15153",
   "metadata": {
    "execution": {
     "iopub.execute_input": "2024-01-22T14:38:36.073309Z",
     "iopub.status.busy": "2024-01-22T14:38:36.073063Z",
     "iopub.status.idle": "2024-01-22T14:38:36.719046Z",
     "shell.execute_reply": "2024-01-22T14:38:36.718204Z"
    },
    "papermill": {
     "duration": 0.66434,
     "end_time": "2024-01-22T14:38:36.721116",
     "exception": false,
     "start_time": "2024-01-22T14:38:36.056776",
     "status": "completed"
    },
    "tags": []
   },
   "outputs": [
    {
     "data": {
      "text/plain": [
       "<Axes: >"
      ]
     },
     "execution_count": 12,
     "metadata": {},
     "output_type": "execute_result"
    },
    {
     "data": {
      "image/png": "[encoded data removed]",
      "text/plain": [
       "<Figure size 640x480 with 2 Axes>"
      ]
     },
     "metadata": {},
     "output_type": "display_data"
    }
   ],
   "source": [
    "#heatmap\n",
    "sns.heatmap(train[col].corr())"
   ]
  },
  {
   "cell_type": "code",
   "execution_count": 13,
   "id": "0e68d404",
   "metadata": {
    "execution": {
     "iopub.execute_input": "2024-01-22T14:38:36.754760Z",
     "iopub.status.busy": "2024-01-22T14:38:36.754433Z",
     "iopub.status.idle": "2024-01-22T14:38:50.483259Z",
     "shell.execute_reply": "2024-01-22T14:38:50.482224Z"
    },
    "papermill": {
     "duration": 13.748196,
     "end_time": "2024-01-22T14:38:50.485645",
     "exception": false,
     "start_time": "2024-01-22T14:38:36.737449",
     "status": "completed"
    },
    "tags": []
   },
   "outputs": [
    {
     "data": {
      "image/png": "[encoded data removed]",
      "text/plain": [
       "<Figure size 640x480 with 1 Axes>"
      ]
     },
     "metadata": {},
     "output_type": "display_data"
    }
   ],
   "source": [
    "#to determine which age group might have higher credit points\n",
    "a=train['Age']\n",
    "b=train['Score_point']\n",
    "plt.bar(a,b)\n",
    "plt.xlabel('Age')\n",
    "plt.ylabel('Score_point')\n",
    "plt.title('Points in accordance with Age')\n",
    "plt.show()"
   ]
  },
  {
   "cell_type": "code",
   "execution_count": 14,
   "id": "3570721b",
   "metadata": {
    "execution": {
     "iopub.execute_input": "2024-01-22T14:38:50.522922Z",
     "iopub.status.busy": "2024-01-22T14:38:50.522593Z",
     "iopub.status.idle": "2024-01-22T14:38:50.538000Z",
     "shell.execute_reply": "2024-01-22T14:38:50.537156Z"
    },
    "papermill": {
     "duration": 0.036656,
     "end_time": "2024-01-22T14:38:50.540022",
     "exception": false,
     "start_time": "2024-01-22T14:38:50.503366",
     "status": "completed"
    },
    "tags": []
   },
   "outputs": [
    {
     "data": {
      "text/plain": [
       "(192, 192)"
      ]
     },
     "execution_count": 14,
     "metadata": {},
     "output_type": "execute_result"
    }
   ],
   "source": [
    "'''creating 2 lists, one which stores the score point values \n",
    "and the other which stores the number of people having that score'''\n",
    "count = {}\n",
    "for i in train['Score_point']:\n",
    "    if i != 0:\n",
    "        count[i] = 0\n",
    "\n",
    "for i in train['Score_point']:\n",
    "    if i != 0:\n",
    "        count[i] += 1\n",
    "\n",
    "cnt = []   # no_of_people with a particular score\n",
    "labels = []  # score\n",
    "\n",
    "for i in count:\n",
    "    cnt.append(count[i])\n",
    "    labels.append(i)\n",
    "\n",
    "len(labels),len(cnt)\n",
    "    "
   ]
  },
  {
   "cell_type": "code",
   "execution_count": 15,
   "id": "c7144c89",
   "metadata": {
    "execution": {
     "iopub.execute_input": "2024-01-22T14:38:50.576813Z",
     "iopub.status.busy": "2024-01-22T14:38:50.576464Z",
     "iopub.status.idle": "2024-01-22T14:38:50.591911Z",
     "shell.execute_reply": "2024-01-22T14:38:50.590985Z"
    },
    "papermill": {
     "duration": 0.035415,
     "end_time": "2024-01-22T14:38:50.593847",
     "exception": false,
     "start_time": "2024-01-22T14:38:50.558432",
     "status": "completed"
    },
    "tags": []
   },
   "outputs": [
    {
     "data": {
      "text/html": [
       "<div>\n",
       "<style scoped>\n",
       "    .dataframe tbody tr th:only-of-type {\n",
       "        vertical-align: middle;\n",
       "    }\n",
       "\n",
       "    .dataframe tbody tr th {\n",
       "        vertical-align: top;\n",
       "    }\n",
       "\n",
       "    .dataframe thead th {\n",
       "        text-align: right;\n",
       "    }\n",
       "</style>\n",
       "<table border=\"1\" class=\"dataframe\">\n",
       "  <thead>\n",
       "    <tr style=\"text-align: right;\">\n",
       "      <th></th>\n",
       "      <th>label</th>\n",
       "      <th>Age</th>\n",
       "      <th>Language</th>\n",
       "      <th>Sex</th>\n",
       "      <th>Marital</th>\n",
       "      <th>Has_Credit</th>\n",
       "      <th>Field</th>\n",
       "      <th>Month_of_birth</th>\n",
       "      <th>Day_of_birth</th>\n",
       "      <th>Region</th>\n",
       "      <th>Number_of_credits</th>\n",
       "      <th>Linked_cards</th>\n",
       "      <th>INPS_mln_sum</th>\n",
       "      <th>INPS_yes_no</th>\n",
       "      <th>Score_level</th>\n",
       "      <th>Score_class</th>\n",
       "      <th>Score_point</th>\n",
       "      <th>Changed_phone_number</th>\n",
       "    </tr>\n",
       "  </thead>\n",
       "  <tbody>\n",
       "    <tr>\n",
       "      <th>0</th>\n",
       "      <td>0</td>\n",
       "      <td>34</td>\n",
       "      <td>1</td>\n",
       "      <td>2</td>\n",
       "      <td>6</td>\n",
       "      <td>2</td>\n",
       "      <td>13</td>\n",
       "      <td>12</td>\n",
       "      <td>1</td>\n",
       "      <td>12</td>\n",
       "      <td>1</td>\n",
       "      <td>0</td>\n",
       "      <td>0.0</td>\n",
       "      <td>0</td>\n",
       "      <td>0</td>\n",
       "      <td>0</td>\n",
       "      <td>0</td>\n",
       "      <td>1</td>\n",
       "    </tr>\n",
       "    <tr>\n",
       "      <th>1</th>\n",
       "      <td>0</td>\n",
       "      <td>38</td>\n",
       "      <td>1</td>\n",
       "      <td>1</td>\n",
       "      <td>5</td>\n",
       "      <td>1</td>\n",
       "      <td>10</td>\n",
       "      <td>7</td>\n",
       "      <td>1</td>\n",
       "      <td>13</td>\n",
       "      <td>1</td>\n",
       "      <td>2</td>\n",
       "      <td>0.0</td>\n",
       "      <td>0</td>\n",
       "      <td>0</td>\n",
       "      <td>0</td>\n",
       "      <td>0</td>\n",
       "      <td>1</td>\n",
       "    </tr>\n",
       "    <tr>\n",
       "      <th>2</th>\n",
       "      <td>0</td>\n",
       "      <td>35</td>\n",
       "      <td>1</td>\n",
       "      <td>2</td>\n",
       "      <td>4</td>\n",
       "      <td>2</td>\n",
       "      <td>9</td>\n",
       "      <td>8</td>\n",
       "      <td>1</td>\n",
       "      <td>13</td>\n",
       "      <td>4</td>\n",
       "      <td>1</td>\n",
       "      <td>1.0</td>\n",
       "      <td>1</td>\n",
       "      <td>0</td>\n",
       "      <td>0</td>\n",
       "      <td>0</td>\n",
       "      <td>1</td>\n",
       "    </tr>\n",
       "    <tr>\n",
       "      <th>3</th>\n",
       "      <td>0</td>\n",
       "      <td>27</td>\n",
       "      <td>1</td>\n",
       "      <td>1</td>\n",
       "      <td>5</td>\n",
       "      <td>2</td>\n",
       "      <td>13</td>\n",
       "      <td>7</td>\n",
       "      <td>1</td>\n",
       "      <td>12</td>\n",
       "      <td>1</td>\n",
       "      <td>2</td>\n",
       "      <td>1.0</td>\n",
       "      <td>0</td>\n",
       "      <td>0</td>\n",
       "      <td>0</td>\n",
       "      <td>0</td>\n",
       "      <td>1</td>\n",
       "    </tr>\n",
       "    <tr>\n",
       "      <th>4</th>\n",
       "      <td>0</td>\n",
       "      <td>32</td>\n",
       "      <td>1</td>\n",
       "      <td>2</td>\n",
       "      <td>4</td>\n",
       "      <td>2</td>\n",
       "      <td>10</td>\n",
       "      <td>7</td>\n",
       "      <td>1</td>\n",
       "      <td>13</td>\n",
       "      <td>3</td>\n",
       "      <td>1</td>\n",
       "      <td>2.0</td>\n",
       "      <td>1</td>\n",
       "      <td>0</td>\n",
       "      <td>0</td>\n",
       "      <td>0</td>\n",
       "      <td>1</td>\n",
       "    </tr>\n",
       "  </tbody>\n",
       "</table>\n",
       "</div>"
      ],
      "text/plain": [
       "   label  Age  Language  Sex  Marital  Has_Credit  Field  Month_of_birth  \\\n",
       "0      0   34         1    2        6           2     13              12   \n",
       "1      0   38         1    1        5           1     10               7   \n",
       "2      0   35         1    2        4           2      9               8   \n",
       "3      0   27         1    1        5           2     13               7   \n",
       "4      0   32         1    2        4           2     10               7   \n",
       "\n",
       "   Day_of_birth  Region  Number_of_credits  Linked_cards  INPS_mln_sum  \\\n",
       "0             1      12                  1             0           0.0   \n",
       "1             1      13                  1             2           0.0   \n",
       "2             1      13                  4             1           1.0   \n",
       "3             1      12                  1             2           1.0   \n",
       "4             1      13                  3             1           2.0   \n",
       "\n",
       "   INPS_yes_no  Score_level  Score_class  Score_point  Changed_phone_number  \n",
       "0            0            0            0            0                     1  \n",
       "1            0            0            0            0                     1  \n",
       "2            1            0            0            0                     1  \n",
       "3            0            0            0            0                     1  \n",
       "4            1            0            0            0                     1  "
      ]
     },
     "execution_count": 15,
     "metadata": {},
     "output_type": "execute_result"
    }
   ],
   "source": [
    "train.head()"
   ]
  },
  {
   "cell_type": "code",
   "execution_count": 16,
   "id": "3945cbe2",
   "metadata": {
    "execution": {
     "iopub.execute_input": "2024-01-22T14:38:50.630375Z",
     "iopub.status.busy": "2024-01-22T14:38:50.630062Z",
     "iopub.status.idle": "2024-01-22T14:38:50.635772Z",
     "shell.execute_reply": "2024-01-22T14:38:50.634849Z"
    },
    "papermill": {
     "duration": 0.02594,
     "end_time": "2024-01-22T14:38:50.637756",
     "exception": false,
     "start_time": "2024-01-22T14:38:50.611816",
     "status": "completed"
    },
    "tags": []
   },
   "outputs": [
    {
     "data": {
      "text/plain": [
       "(192, 6571)"
      ]
     },
     "execution_count": 16,
     "metadata": {},
     "output_type": "execute_result"
    }
   ],
   "source": [
    "\n",
    "max(labels),max(cnt)"
   ]
  },
  {
   "cell_type": "code",
   "execution_count": 17,
   "id": "a6fe171e",
   "metadata": {
    "execution": {
     "iopub.execute_input": "2024-01-22T14:38:50.674390Z",
     "iopub.status.busy": "2024-01-22T14:38:50.674106Z",
     "iopub.status.idle": "2024-01-22T14:38:51.124039Z",
     "shell.execute_reply": "2024-01-22T14:38:51.123135Z"
    },
    "papermill": {
     "duration": 0.470914,
     "end_time": "2024-01-22T14:38:51.126311",
     "exception": false,
     "start_time": "2024-01-22T14:38:50.655397",
     "status": "completed"
    },
    "tags": []
   },
   "outputs": [
    {
     "data": {
      "image/png": "[encoded data removed]",
      "text/plain": [
       "<Figure size 640x480 with 1 Axes>"
      ]
     },
     "metadata": {},
     "output_type": "display_data"
    }
   ],
   "source": [
    "#bar chart between labels and their count\n",
    "plt.bar(labels,cnt)\n",
    "plt.xlabel('Points')\n",
    "plt.ylabel('No_of_people')\n",
    "plt.show()"
   ]
  },
  {
   "cell_type": "markdown",
   "id": "517783e2",
   "metadata": {
    "papermill": {
     "duration": 0.017107,
     "end_time": "2024-01-22T14:38:51.161410",
     "exception": false,
     "start_time": "2024-01-22T14:38:51.144303",
     "status": "completed"
    },
    "tags": []
   },
   "source": [
    "This clearly shows that a very high number of people approximately 7000 have very low credit score(near to 0) and very low number of people ,even less that 500 have a high score reaching the maximum scor"
   ]
  },
  {
   "cell_type": "markdown",
   "id": "07505ee0",
   "metadata": {
    "papermill": {
     "duration": 0.017129,
     "end_time": "2024-01-22T14:38:51.196265",
     "exception": false,
     "start_time": "2024-01-22T14:38:51.179136",
     "status": "completed"
    },
    "tags": []
   },
   "source": [
    "# **Train and test data**"
   ]
  },
  {
   "cell_type": "code",
   "execution_count": 18,
   "id": "2fa81e38",
   "metadata": {
    "execution": {
     "iopub.execute_input": "2024-01-22T14:38:51.234099Z",
     "iopub.status.busy": "2024-01-22T14:38:51.233334Z",
     "iopub.status.idle": "2024-01-22T14:38:51.241874Z",
     "shell.execute_reply": "2024-01-22T14:38:51.240918Z"
    },
    "papermill": {
     "duration": 0.030021,
     "end_time": "2024-01-22T14:38:51.244149",
     "exception": false,
     "start_time": "2024-01-22T14:38:51.214128",
     "status": "completed"
    },
    "tags": []
   },
   "outputs": [],
   "source": [
    "#splitting train data into x and y\n",
    "x_train=train.drop(columns=['Score_point'])\n",
    "y_train=train['Score_point']"
   ]
  },
  {
   "cell_type": "code",
   "execution_count": 19,
   "id": "4d5c8417",
   "metadata": {
    "execution": {
     "iopub.execute_input": "2024-01-22T14:38:51.282471Z",
     "iopub.status.busy": "2024-01-22T14:38:51.282194Z",
     "iopub.status.idle": "2024-01-22T14:38:51.287523Z",
     "shell.execute_reply": "2024-01-22T14:38:51.286676Z"
    },
    "papermill": {
     "duration": 0.026568,
     "end_time": "2024-01-22T14:38:51.289661",
     "exception": false,
     "start_time": "2024-01-22T14:38:51.263093",
     "status": "completed"
    },
    "tags": []
   },
   "outputs": [],
   "source": [
    "#splitting test data into x and y\n",
    "x_test=test.drop('Score_point',axis=1)\n",
    "y_test=test['Score_point']"
   ]
  },
  {
   "cell_type": "code",
   "execution_count": 20,
   "id": "7e62c824",
   "metadata": {
    "execution": {
     "iopub.execute_input": "2024-01-22T14:38:51.326705Z",
     "iopub.status.busy": "2024-01-22T14:38:51.326410Z",
     "iopub.status.idle": "2024-01-22T14:38:51.332258Z",
     "shell.execute_reply": "2024-01-22T14:38:51.331390Z"
    },
    "papermill": {
     "duration": 0.026579,
     "end_time": "2024-01-22T14:38:51.334197",
     "exception": false,
     "start_time": "2024-01-22T14:38:51.307618",
     "status": "completed"
    },
    "tags": []
   },
   "outputs": [
    {
     "data": {
      "text/plain": [
       "((8707, 17), (8707,))"
      ]
     },
     "execution_count": 20,
     "metadata": {},
     "output_type": "execute_result"
    }
   ],
   "source": [
    "x_train.shape,y_train.shape"
   ]
  },
  {
   "cell_type": "code",
   "execution_count": 21,
   "id": "a7d7637b",
   "metadata": {
    "execution": {
     "iopub.execute_input": "2024-01-22T14:38:51.371377Z",
     "iopub.status.busy": "2024-01-22T14:38:51.370718Z",
     "iopub.status.idle": "2024-01-22T14:38:51.376357Z",
     "shell.execute_reply": "2024-01-22T14:38:51.375526Z"
    },
    "papermill": {
     "duration": 0.026661,
     "end_time": "2024-01-22T14:38:51.378267",
     "exception": false,
     "start_time": "2024-01-22T14:38:51.351606",
     "status": "completed"
    },
    "tags": []
   },
   "outputs": [
    {
     "data": {
      "text/plain": [
       "((48, 17), (48,))"
      ]
     },
     "execution_count": 21,
     "metadata": {},
     "output_type": "execute_result"
    }
   ],
   "source": [
    "x_test.shape,y_test.shape"
   ]
  },
  {
   "cell_type": "markdown",
   "id": "20614d4f",
   "metadata": {
    "papermill": {
     "duration": 0.018798,
     "end_time": "2024-01-22T14:38:51.415667",
     "exception": false,
     "start_time": "2024-01-22T14:38:51.396869",
     "status": "completed"
    },
    "tags": []
   },
   "source": [
    "# **Model Training and Testing**"
   ]
  },
  {
   "cell_type": "code",
   "execution_count": 22,
   "id": "75db57dc",
   "metadata": {
    "execution": {
     "iopub.execute_input": "2024-01-22T14:38:51.454402Z",
     "iopub.status.busy": "2024-01-22T14:38:51.454115Z",
     "iopub.status.idle": "2024-01-22T14:38:58.980844Z",
     "shell.execute_reply": "2024-01-22T14:38:58.979523Z"
    },
    "papermill": {
     "duration": 7.550585,
     "end_time": "2024-01-22T14:38:58.985249",
     "exception": false,
     "start_time": "2024-01-22T14:38:51.434664",
     "status": "completed"
    },
    "tags": []
   },
   "outputs": [
    {
     "name": "stderr",
     "output_type": "stream",
     "text": [
      "/opt/conda/lib/python3.10/site-packages/sklearn/linear_model/_logistic.py:458: ConvergenceWarning: lbfgs failed to converge (status=1):\n",
      "STOP: TOTAL NO. of ITERATIONS REACHED LIMIT.\n",
      "\n",
      "Increase the number of iterations (max_iter) or scale the data as shown in:\n",
      "    https://scikit-learn.org/stable/modules/preprocessing.html\n",
      "Please also refer to the documentation for alternative solver options:\n",
      "    https://scikit-learn.org/stable/modules/linear_model.html#logistic-regression\n",
      "  n_iter_i = _check_optimize_result(\n"
     ]
    },
    {
     "data": {
      "text/html": [
       "<style>#sk-container-id-1 {color: black;background-color: white;}#sk-container-id-1 pre{padding: 0;}#sk-container-id-1 div.sk-toggleable {background-color: white;}#sk-container-id-1 label.sk-toggleable__label {cursor: pointer;display: block;width: 100%;margin-bottom: 0;padding: 0.3em;box-sizing: border-box;text-align: center;}#sk-container-id-1 label.sk-toggleable__label-arrow:before {content: \"▸\";float: left;margin-right: 0.25em;color: #696969;}#sk-container-id-1 label.sk-toggleable__label-arrow:hover:before {color: black;}#sk-container-id-1 div.sk-estimator:hover label.sk-toggleable__label-arrow:before {color: black;}#sk-container-id-1 div.sk-toggleable__content {max-height: 0;max-width: 0;overflow: hidden;text-align: left;background-color: #f0f8ff;}#sk-container-id-1 div.sk-toggleable__content pre {margin: 0.2em;color: black;border-radius: 0.25em;background-color: #f0f8ff;}#sk-container-id-1 input.sk-toggleable__control:checked~div.sk-toggleable__content {max-height: 200px;max-width: 100%;overflow: auto;}#sk-container-id-1 input.sk-toggleable__control:checked~label.sk-toggleable__label-arrow:before {content: \"▾\";}#sk-container-id-1 div.sk-estimator input.sk-toggleable__control:checked~label.sk-toggleable__label {background-color: #d4ebff;}#sk-container-id-1 div.sk-label input.sk-toggleable__control:checked~label.sk-toggleable__label {background-color: #d4ebff;}#sk-container-id-1 input.sk-hidden--visually {border: 0;clip: rect(1px 1px 1px 1px);clip: rect(1px, 1px, 1px, 1px);height: 1px;margin: -1px;overflow: hidden;padding: 0;position: absolute;width: 1px;}#sk-container-id-1 div.sk-estimator {font-family: monospace;background-color: #f0f8ff;border: 1px dotted black;border-radius: 0.25em;box-sizing: border-box;margin-bottom: 0.5em;}#sk-container-id-1 div.sk-estimator:hover {background-color: #d4ebff;}#sk-container-id-1 div.sk-parallel-item::after {content: \"\";width: 100%;border-bottom: 1px solid gray;flex-grow: 1;}#sk-container-id-1 div.sk-label:hover label.sk-toggleable__label {background-color: #d4ebff;}#sk-container-id-1 div.sk-serial::before {content: \"\";position: absolute;border-left: 1px solid gray;box-sizing: border-box;top: 0;bottom: 0;left: 50%;z-index: 0;}#sk-container-id-1 div.sk-serial {display: flex;flex-direction: column;align-items: center;background-color: white;padding-right: 0.2em;padding-left: 0.2em;position: relative;}#sk-container-id-1 div.sk-item {position: relative;z-index: 1;}#sk-container-id-1 div.sk-parallel {display: flex;align-items: stretch;justify-content: center;background-color: white;position: relative;}#sk-container-id-1 div.sk-item::before, #sk-container-id-1 div.sk-parallel-item::before {content: \"\";position: absolute;border-left: 1px solid gray;box-sizing: border-box;top: 0;bottom: 0;left: 50%;z-index: -1;}#sk-container-id-1 div.sk-parallel-item {display: flex;flex-direction: column;z-index: 1;position: relative;background-color: white;}#sk-container-id-1 div.sk-parallel-item:first-child::after {align-self: flex-end;width: 50%;}#sk-container-id-1 div.sk-parallel-item:last-child::after {align-self: flex-start;width: 50%;}#sk-container-id-1 div.sk-parallel-item:only-child::after {width: 0;}#sk-container-id-1 div.sk-dashed-wrapped {border: 1px dashed gray;margin: 0 0.4em 0.5em 0.4em;box-sizing: border-box;padding-bottom: 0.4em;background-color: white;}#sk-container-id-1 div.sk-label label {font-family: monospace;font-weight: bold;display: inline-block;line-height: 1.2em;}#sk-container-id-1 div.sk-label-container {text-align: center;}#sk-container-id-1 div.sk-container {/* jupyter's `normalize.less` sets `[hidden] { display: none; }` but bootstrap.min.css set `[hidden] { display: none !important; }` so we also need the `!important` here to be able to override the default hidden behavior on the sphinx rendered scikit-learn.org. See: https://github.com/scikit-learn/scikit-learn/issues/21755 */display: inline-block !important;position: relative;}#sk-container-id-1 div.sk-text-repr-fallback {display: none;}</style><div id=\"sk-container-id-1\" class=\"sk-top-container\"><div class=\"sk-text-repr-fallback\"><pre>LogisticRegression()</pre><b>In a Jupyter environment, please rerun this cell to show the HTML representation or trust the notebook. <br />On GitHub, the HTML representation is unable to render, please try loading this page with nbviewer.org.</b></div><div class=\"sk-container\" hidden><div class=\"sk-item\"><div class=\"sk-estimator sk-toggleable\"><input class=\"sk-toggleable__control sk-hidden--visually\" id=\"sk-estimator-id-1\" type=\"checkbox\" checked><label for=\"sk-estimator-id-1\" class=\"sk-toggleable__label sk-toggleable__label-arrow\">LogisticRegression</label><div class=\"sk-toggleable__content\"><pre>LogisticRegression()</pre></div></div></div></div></div>"
      ],
      "text/plain": [
       "LogisticRegression()"
      ]
     },
     "execution_count": 22,
     "metadata": {},
     "output_type": "execute_result"
    }
   ],
   "source": [
    "#Logistic Regression\n",
    "lr_model=LogisticRegression()\n",
    "lr_model.fit(x_train,y_train)"
   ]
  },
  {
   "cell_type": "code",
   "execution_count": 23,
   "id": "4b130614",
   "metadata": {
    "execution": {
     "iopub.execute_input": "2024-01-22T14:38:59.083325Z",
     "iopub.status.busy": "2024-01-22T14:38:59.082830Z",
     "iopub.status.idle": "2024-01-22T14:38:59.116033Z",
     "shell.execute_reply": "2024-01-22T14:38:59.114538Z"
    },
    "papermill": {
     "duration": 0.088156,
     "end_time": "2024-01-22T14:38:59.120272",
     "exception": false,
     "start_time": "2024-01-22T14:38:59.032116",
     "status": "completed"
    },
    "tags": []
   },
   "outputs": [
    {
     "name": "stdout",
     "output_type": "stream",
     "text": [
      "accuracy of train data is =  0.882508326633743\n"
     ]
    }
   ],
   "source": [
    "print('accuracy of train data is = ',lr_model.score(x_train,y_train))"
   ]
  },
  {
   "cell_type": "code",
   "execution_count": 24,
   "id": "96da8ead",
   "metadata": {
    "execution": {
     "iopub.execute_input": "2024-01-22T14:38:59.225890Z",
     "iopub.status.busy": "2024-01-22T14:38:59.225301Z",
     "iopub.status.idle": "2024-01-22T14:38:59.235739Z",
     "shell.execute_reply": "2024-01-22T14:38:59.234372Z"
    },
    "papermill": {
     "duration": 0.064778,
     "end_time": "2024-01-22T14:38:59.237907",
     "exception": false,
     "start_time": "2024-01-22T14:38:59.173129",
     "status": "completed"
    },
    "tags": []
   },
   "outputs": [
    {
     "name": "stdout",
     "output_type": "stream",
     "text": [
      "accuracy of test data is =  0.8125\n"
     ]
    }
   ],
   "source": [
    "print('accuracy of test data is = ',lr_model.score(x_test,y_test))"
   ]
  },
  {
   "cell_type": "code",
   "execution_count": 25,
   "id": "6f73b063",
   "metadata": {
    "execution": {
     "iopub.execute_input": "2024-01-22T14:38:59.280246Z",
     "iopub.status.busy": "2024-01-22T14:38:59.279977Z",
     "iopub.status.idle": "2024-01-22T14:38:59.290776Z",
     "shell.execute_reply": "2024-01-22T14:38:59.289856Z"
    },
    "papermill": {
     "duration": 0.034066,
     "end_time": "2024-01-22T14:38:59.292794",
     "exception": false,
     "start_time": "2024-01-22T14:38:59.258728",
     "status": "completed"
    },
    "tags": []
   },
   "outputs": [
    {
     "data": {
      "text/html": [
       "<style>#sk-container-id-2 {color: black;background-color: white;}#sk-container-id-2 pre{padding: 0;}#sk-container-id-2 div.sk-toggleable {background-color: white;}#sk-container-id-2 label.sk-toggleable__label {cursor: pointer;display: block;width: 100%;margin-bottom: 0;padding: 0.3em;box-sizing: border-box;text-align: center;}#sk-container-id-2 label.sk-toggleable__label-arrow:before {content: \"▸\";float: left;margin-right: 0.25em;color: #696969;}#sk-container-id-2 label.sk-toggleable__label-arrow:hover:before {color: black;}#sk-container-id-2 div.sk-estimator:hover label.sk-toggleable__label-arrow:before {color: black;}#sk-container-id-2 div.sk-toggleable__content {max-height: 0;max-width: 0;overflow: hidden;text-align: left;background-color: #f0f8ff;}#sk-container-id-2 div.sk-toggleable__content pre {margin: 0.2em;color: black;border-radius: 0.25em;background-color: #f0f8ff;}#sk-container-id-2 input.sk-toggleable__control:checked~div.sk-toggleable__content {max-height: 200px;max-width: 100%;overflow: auto;}#sk-container-id-2 input.sk-toggleable__control:checked~label.sk-toggleable__label-arrow:before {content: \"▾\";}#sk-container-id-2 div.sk-estimator input.sk-toggleable__control:checked~label.sk-toggleable__label {background-color: #d4ebff;}#sk-container-id-2 div.sk-label input.sk-toggleable__control:checked~label.sk-toggleable__label {background-color: #d4ebff;}#sk-container-id-2 input.sk-hidden--visually {border: 0;clip: rect(1px 1px 1px 1px);clip: rect(1px, 1px, 1px, 1px);height: 1px;margin: -1px;overflow: hidden;padding: 0;position: absolute;width: 1px;}#sk-container-id-2 div.sk-estimator {font-family: monospace;background-color: #f0f8ff;border: 1px dotted black;border-radius: 0.25em;box-sizing: border-box;margin-bottom: 0.5em;}#sk-container-id-2 div.sk-estimator:hover {background-color: #d4ebff;}#sk-container-id-2 div.sk-parallel-item::after {content: \"\";width: 100%;border-bottom: 1px solid gray;flex-grow: 1;}#sk-container-id-2 div.sk-label:hover label.sk-toggleable__label {background-color: #d4ebff;}#sk-container-id-2 div.sk-serial::before {content: \"\";position: absolute;border-left: 1px solid gray;box-sizing: border-box;top: 0;bottom: 0;left: 50%;z-index: 0;}#sk-container-id-2 div.sk-serial {display: flex;flex-direction: column;align-items: center;background-color: white;padding-right: 0.2em;padding-left: 0.2em;position: relative;}#sk-container-id-2 div.sk-item {position: relative;z-index: 1;}#sk-container-id-2 div.sk-parallel {display: flex;align-items: stretch;justify-content: center;background-color: white;position: relative;}#sk-container-id-2 div.sk-item::before, #sk-container-id-2 div.sk-parallel-item::before {content: \"\";position: absolute;border-left: 1px solid gray;box-sizing: border-box;top: 0;bottom: 0;left: 50%;z-index: -1;}#sk-container-id-2 div.sk-parallel-item {display: flex;flex-direction: column;z-index: 1;position: relative;background-color: white;}#sk-container-id-2 div.sk-parallel-item:first-child::after {align-self: flex-end;width: 50%;}#sk-container-id-2 div.sk-parallel-item:last-child::after {align-self: flex-start;width: 50%;}#sk-container-id-2 div.sk-parallel-item:only-child::after {width: 0;}#sk-container-id-2 div.sk-dashed-wrapped {border: 1px dashed gray;margin: 0 0.4em 0.5em 0.4em;box-sizing: border-box;padding-bottom: 0.4em;background-color: white;}#sk-container-id-2 div.sk-label label {font-family: monospace;font-weight: bold;display: inline-block;line-height: 1.2em;}#sk-container-id-2 div.sk-label-container {text-align: center;}#sk-container-id-2 div.sk-container {/* jupyter's `normalize.less` sets `[hidden] { display: none; }` but bootstrap.min.css set `[hidden] { display: none !important; }` so we also need the `!important` here to be able to override the default hidden behavior on the sphinx rendered scikit-learn.org. See: https://github.com/scikit-learn/scikit-learn/issues/21755 */display: inline-block !important;position: relative;}#sk-container-id-2 div.sk-text-repr-fallback {display: none;}</style><div id=\"sk-container-id-2\" class=\"sk-top-container\"><div class=\"sk-text-repr-fallback\"><pre>KNeighborsClassifier(n_neighbors=1)</pre><b>In a Jupyter environment, please rerun this cell to show the HTML representation or trust the notebook. <br />On GitHub, the HTML representation is unable to render, please try loading this page with nbviewer.org.</b></div><div class=\"sk-container\" hidden><div class=\"sk-item\"><div class=\"sk-estimator sk-toggleable\"><input class=\"sk-toggleable__control sk-hidden--visually\" id=\"sk-estimator-id-2\" type=\"checkbox\" checked><label for=\"sk-estimator-id-2\" class=\"sk-toggleable__label sk-toggleable__label-arrow\">KNeighborsClassifier</label><div class=\"sk-toggleable__content\"><pre>KNeighborsClassifier(n_neighbors=1)</pre></div></div></div></div></div>"
      ],
      "text/plain": [
       "KNeighborsClassifier(n_neighbors=1)"
      ]
     },
     "execution_count": 25,
     "metadata": {},
     "output_type": "execute_result"
    }
   ],
   "source": [
    "#KNN\n",
    "knn=KNeighborsClassifier(n_neighbors=1)\n",
    "knn.fit(x_train,y_train)"
   ]
  },
  {
   "cell_type": "code",
   "execution_count": 26,
   "id": "ca87eab5",
   "metadata": {
    "execution": {
     "iopub.execute_input": "2024-01-22T14:38:59.333823Z",
     "iopub.status.busy": "2024-01-22T14:38:59.333533Z",
     "iopub.status.idle": "2024-01-22T14:38:59.851535Z",
     "shell.execute_reply": "2024-01-22T14:38:59.850654Z"
    },
    "papermill": {
     "duration": 0.541488,
     "end_time": "2024-01-22T14:38:59.853859",
     "exception": false,
     "start_time": "2024-01-22T14:38:59.312371",
     "status": "completed"
    },
    "tags": []
   },
   "outputs": [
    {
     "name": "stdout",
     "output_type": "stream",
     "text": [
      "accuracy of train data is =  1.0\n"
     ]
    }
   ],
   "source": [
    "print('accuracy of train data is = ',knn.score(x_train,y_train))"
   ]
  },
  {
   "cell_type": "code",
   "execution_count": 27,
   "id": "dbb9bffc",
   "metadata": {
    "execution": {
     "iopub.execute_input": "2024-01-22T14:38:59.893156Z",
     "iopub.status.busy": "2024-01-22T14:38:59.892858Z",
     "iopub.status.idle": "2024-01-22T14:38:59.910992Z",
     "shell.execute_reply": "2024-01-22T14:38:59.910215Z"
    },
    "papermill": {
     "duration": 0.040374,
     "end_time": "2024-01-22T14:38:59.913259",
     "exception": false,
     "start_time": "2024-01-22T14:38:59.872885",
     "status": "completed"
    },
    "tags": []
   },
   "outputs": [
    {
     "name": "stdout",
     "output_type": "stream",
     "text": [
      "accuracy of test data is =  0.7916666666666666\n"
     ]
    }
   ],
   "source": [
    "print('accuracy of test data is = ',knn.score(x_test,y_test))"
   ]
  },
  {
   "cell_type": "code",
   "execution_count": 28,
   "id": "16461e26",
   "metadata": {
    "execution": {
     "iopub.execute_input": "2024-01-22T14:38:59.954543Z",
     "iopub.status.busy": "2024-01-22T14:38:59.954228Z",
     "iopub.status.idle": "2024-01-22T14:38:59.996536Z",
     "shell.execute_reply": "2024-01-22T14:38:59.995218Z"
    },
    "papermill": {
     "duration": 0.065701,
     "end_time": "2024-01-22T14:39:00.000112",
     "exception": false,
     "start_time": "2024-01-22T14:38:59.934411",
     "status": "completed"
    },
    "tags": []
   },
   "outputs": [
    {
     "data": {
      "text/html": [
       "<style>#sk-container-id-3 {color: black;background-color: white;}#sk-container-id-3 pre{padding: 0;}#sk-container-id-3 div.sk-toggleable {background-color: white;}#sk-container-id-3 label.sk-toggleable__label {cursor: pointer;display: block;width: 100%;margin-bottom: 0;padding: 0.3em;box-sizing: border-box;text-align: center;}#sk-container-id-3 label.sk-toggleable__label-arrow:before {content: \"▸\";float: left;margin-right: 0.25em;color: #696969;}#sk-container-id-3 label.sk-toggleable__label-arrow:hover:before {color: black;}#sk-container-id-3 div.sk-estimator:hover label.sk-toggleable__label-arrow:before {color: black;}#sk-container-id-3 div.sk-toggleable__content {max-height: 0;max-width: 0;overflow: hidden;text-align: left;background-color: #f0f8ff;}#sk-container-id-3 div.sk-toggleable__content pre {margin: 0.2em;color: black;border-radius: 0.25em;background-color: #f0f8ff;}#sk-container-id-3 input.sk-toggleable__control:checked~div.sk-toggleable__content {max-height: 200px;max-width: 100%;overflow: auto;}#sk-container-id-3 input.sk-toggleable__control:checked~label.sk-toggleable__label-arrow:before {content: \"▾\";}#sk-container-id-3 div.sk-estimator input.sk-toggleable__control:checked~label.sk-toggleable__label {background-color: #d4ebff;}#sk-container-id-3 div.sk-label input.sk-toggleable__control:checked~label.sk-toggleable__label {background-color: #d4ebff;}#sk-container-id-3 input.sk-hidden--visually {border: 0;clip: rect(1px 1px 1px 1px);clip: rect(1px, 1px, 1px, 1px);height: 1px;margin: -1px;overflow: hidden;padding: 0;position: absolute;width: 1px;}#sk-container-id-3 div.sk-estimator {font-family: monospace;background-color: #f0f8ff;border: 1px dotted black;border-radius: 0.25em;box-sizing: border-box;margin-bottom: 0.5em;}#sk-container-id-3 div.sk-estimator:hover {background-color: #d4ebff;}#sk-container-id-3 div.sk-parallel-item::after {content: \"\";width: 100%;border-bottom: 1px solid gray;flex-grow: 1;}#sk-container-id-3 div.sk-label:hover label.sk-toggleable__label {background-color: #d4ebff;}#sk-container-id-3 div.sk-serial::before {content: \"\";position: absolute;border-left: 1px solid gray;box-sizing: border-box;top: 0;bottom: 0;left: 50%;z-index: 0;}#sk-container-id-3 div.sk-serial {display: flex;flex-direction: column;align-items: center;background-color: white;padding-right: 0.2em;padding-left: 0.2em;position: relative;}#sk-container-id-3 div.sk-item {position: relative;z-index: 1;}#sk-container-id-3 div.sk-parallel {display: flex;align-items: stretch;justify-content: center;background-color: white;position: relative;}#sk-container-id-3 div.sk-item::before, #sk-container-id-3 div.sk-parallel-item::before {content: \"\";position: absolute;border-left: 1px solid gray;box-sizing: border-box;top: 0;bottom: 0;left: 50%;z-index: -1;}#sk-container-id-3 div.sk-parallel-item {display: flex;flex-direction: column;z-index: 1;position: relative;background-color: white;}#sk-container-id-3 div.sk-parallel-item:first-child::after {align-self: flex-end;width: 50%;}#sk-container-id-3 div.sk-parallel-item:last-child::after {align-self: flex-start;width: 50%;}#sk-container-id-3 div.sk-parallel-item:only-child::after {width: 0;}#sk-container-id-3 div.sk-dashed-wrapped {border: 1px dashed gray;margin: 0 0.4em 0.5em 0.4em;box-sizing: border-box;padding-bottom: 0.4em;background-color: white;}#sk-container-id-3 div.sk-label label {font-family: monospace;font-weight: bold;display: inline-block;line-height: 1.2em;}#sk-container-id-3 div.sk-label-container {text-align: center;}#sk-container-id-3 div.sk-container {/* jupyter's `normalize.less` sets `[hidden] { display: none; }` but bootstrap.min.css set `[hidden] { display: none !important; }` so we also need the `!important` here to be able to override the default hidden behavior on the sphinx rendered scikit-learn.org. See: https://github.com/scikit-learn/scikit-learn/issues/21755 */display: inline-block !important;position: relative;}#sk-container-id-3 div.sk-text-repr-fallback {display: none;}</style><div id=\"sk-container-id-3\" class=\"sk-top-container\"><div class=\"sk-text-repr-fallback\"><pre>MultinomialNB()</pre><b>In a Jupyter environment, please rerun this cell to show the HTML representation or trust the notebook. <br />On GitHub, the HTML representation is unable to render, please try loading this page with nbviewer.org.</b></div><div class=\"sk-container\" hidden><div class=\"sk-item\"><div class=\"sk-estimator sk-toggleable\"><input class=\"sk-toggleable__control sk-hidden--visually\" id=\"sk-estimator-id-3\" type=\"checkbox\" checked><label for=\"sk-estimator-id-3\" class=\"sk-toggleable__label sk-toggleable__label-arrow\">MultinomialNB</label><div class=\"sk-toggleable__content\"><pre>MultinomialNB()</pre></div></div></div></div></div>"
      ],
      "text/plain": [
       "MultinomialNB()"
      ]
     },
     "execution_count": 28,
     "metadata": {},
     "output_type": "execute_result"
    }
   ],
   "source": [
    "#Naive Bayes\n",
    "nb_model=MultinomialNB()\n",
    "nb_model.fit(x_train,y_train)"
   ]
  },
  {
   "cell_type": "code",
   "execution_count": 29,
   "id": "e9c5d73f",
   "metadata": {
    "execution": {
     "iopub.execute_input": "2024-01-22T14:39:00.088662Z",
     "iopub.status.busy": "2024-01-22T14:39:00.088090Z",
     "iopub.status.idle": "2024-01-22T14:39:00.118034Z",
     "shell.execute_reply": "2024-01-22T14:39:00.116721Z"
    },
    "papermill": {
     "duration": 0.07765,
     "end_time": "2024-01-22T14:39:00.121908",
     "exception": false,
     "start_time": "2024-01-22T14:39:00.044258",
     "status": "completed"
    },
    "tags": []
   },
   "outputs": [
    {
     "name": "stdout",
     "output_type": "stream",
     "text": [
      "accuracy of train data is =  0.8598828528769955\n"
     ]
    }
   ],
   "source": [
    "print('accuracy of train data is = ',nb_model.score(x_train,y_train))"
   ]
  },
  {
   "cell_type": "code",
   "execution_count": 30,
   "id": "d4c5e904",
   "metadata": {
    "execution": {
     "iopub.execute_input": "2024-01-22T14:39:00.215839Z",
     "iopub.status.busy": "2024-01-22T14:39:00.215276Z",
     "iopub.status.idle": "2024-01-22T14:39:00.227960Z",
     "shell.execute_reply": "2024-01-22T14:39:00.226712Z"
    },
    "papermill": {
     "duration": 0.062522,
     "end_time": "2024-01-22T14:39:00.231454",
     "exception": false,
     "start_time": "2024-01-22T14:39:00.168932",
     "status": "completed"
    },
    "tags": []
   },
   "outputs": [
    {
     "name": "stdout",
     "output_type": "stream",
     "text": [
      "accuracy of test data is =  0.8333333333333334\n"
     ]
    }
   ],
   "source": [
    "print('accuracy of test data is = ',nb_model.score(x_test,y_test))"
   ]
  },
  {
   "cell_type": "code",
   "execution_count": 31,
   "id": "ec8030d5",
   "metadata": {
    "execution": {
     "iopub.execute_input": "2024-01-22T14:39:00.274206Z",
     "iopub.status.busy": "2024-01-22T14:39:00.273596Z",
     "iopub.status.idle": "2024-01-22T14:39:00.301854Z",
     "shell.execute_reply": "2024-01-22T14:39:00.301030Z"
    },
    "papermill": {
     "duration": 0.049805,
     "end_time": "2024-01-22T14:39:00.303777",
     "exception": false,
     "start_time": "2024-01-22T14:39:00.253972",
     "status": "completed"
    },
    "tags": []
   },
   "outputs": [
    {
     "data": {
      "text/html": [
       "<style>#sk-container-id-4 {color: black;background-color: white;}#sk-container-id-4 pre{padding: 0;}#sk-container-id-4 div.sk-toggleable {background-color: white;}#sk-container-id-4 label.sk-toggleable__label {cursor: pointer;display: block;width: 100%;margin-bottom: 0;padding: 0.3em;box-sizing: border-box;text-align: center;}#sk-container-id-4 label.sk-toggleable__label-arrow:before {content: \"▸\";float: left;margin-right: 0.25em;color: #696969;}#sk-container-id-4 label.sk-toggleable__label-arrow:hover:before {color: black;}#sk-container-id-4 div.sk-estimator:hover label.sk-toggleable__label-arrow:before {color: black;}#sk-container-id-4 div.sk-toggleable__content {max-height: 0;max-width: 0;overflow: hidden;text-align: left;background-color: #f0f8ff;}#sk-container-id-4 div.sk-toggleable__content pre {margin: 0.2em;color: black;border-radius: 0.25em;background-color: #f0f8ff;}#sk-container-id-4 input.sk-toggleable__control:checked~div.sk-toggleable__content {max-height: 200px;max-width: 100%;overflow: auto;}#sk-container-id-4 input.sk-toggleable__control:checked~label.sk-toggleable__label-arrow:before {content: \"▾\";}#sk-container-id-4 div.sk-estimator input.sk-toggleable__control:checked~label.sk-toggleable__label {background-color: #d4ebff;}#sk-container-id-4 div.sk-label input.sk-toggleable__control:checked~label.sk-toggleable__label {background-color: #d4ebff;}#sk-container-id-4 input.sk-hidden--visually {border: 0;clip: rect(1px 1px 1px 1px);clip: rect(1px, 1px, 1px, 1px);height: 1px;margin: -1px;overflow: hidden;padding: 0;position: absolute;width: 1px;}#sk-container-id-4 div.sk-estimator {font-family: monospace;background-color: #f0f8ff;border: 1px dotted black;border-radius: 0.25em;box-sizing: border-box;margin-bottom: 0.5em;}#sk-container-id-4 div.sk-estimator:hover {background-color: #d4ebff;}#sk-container-id-4 div.sk-parallel-item::after {content: \"\";width: 100%;border-bottom: 1px solid gray;flex-grow: 1;}#sk-container-id-4 div.sk-label:hover label.sk-toggleable__label {background-color: #d4ebff;}#sk-container-id-4 div.sk-serial::before {content: \"\";position: absolute;border-left: 1px solid gray;box-sizing: border-box;top: 0;bottom: 0;left: 50%;z-index: 0;}#sk-container-id-4 div.sk-serial {display: flex;flex-direction: column;align-items: center;background-color: white;padding-right: 0.2em;padding-left: 0.2em;position: relative;}#sk-container-id-4 div.sk-item {position: relative;z-index: 1;}#sk-container-id-4 div.sk-parallel {display: flex;align-items: stretch;justify-content: center;background-color: white;position: relative;}#sk-container-id-4 div.sk-item::before, #sk-container-id-4 div.sk-parallel-item::before {content: \"\";position: absolute;border-left: 1px solid gray;box-sizing: border-box;top: 0;bottom: 0;left: 50%;z-index: -1;}#sk-container-id-4 div.sk-parallel-item {display: flex;flex-direction: column;z-index: 1;position: relative;background-color: white;}#sk-container-id-4 div.sk-parallel-item:first-child::after {align-self: flex-end;width: 50%;}#sk-container-id-4 div.sk-parallel-item:last-child::after {align-self: flex-start;width: 50%;}#sk-container-id-4 div.sk-parallel-item:only-child::after {width: 0;}#sk-container-id-4 div.sk-dashed-wrapped {border: 1px dashed gray;margin: 0 0.4em 0.5em 0.4em;box-sizing: border-box;padding-bottom: 0.4em;background-color: white;}#sk-container-id-4 div.sk-label label {font-family: monospace;font-weight: bold;display: inline-block;line-height: 1.2em;}#sk-container-id-4 div.sk-label-container {text-align: center;}#sk-container-id-4 div.sk-container {/* jupyter's `normalize.less` sets `[hidden] { display: none; }` but bootstrap.min.css set `[hidden] { display: none !important; }` so we also need the `!important` here to be able to override the default hidden behavior on the sphinx rendered scikit-learn.org. See: https://github.com/scikit-learn/scikit-learn/issues/21755 */display: inline-block !important;position: relative;}#sk-container-id-4 div.sk-text-repr-fallback {display: none;}</style><div id=\"sk-container-id-4\" class=\"sk-top-container\"><div class=\"sk-text-repr-fallback\"><pre>DecisionTreeClassifier(criterion=&#x27;entropy&#x27;, max_depth=7)</pre><b>In a Jupyter environment, please rerun this cell to show the HTML representation or trust the notebook. <br />On GitHub, the HTML representation is unable to render, please try loading this page with nbviewer.org.</b></div><div class=\"sk-container\" hidden><div class=\"sk-item\"><div class=\"sk-estimator sk-toggleable\"><input class=\"sk-toggleable__control sk-hidden--visually\" id=\"sk-estimator-id-4\" type=\"checkbox\" checked><label for=\"sk-estimator-id-4\" class=\"sk-toggleable__label sk-toggleable__label-arrow\">DecisionTreeClassifier</label><div class=\"sk-toggleable__content\"><pre>DecisionTreeClassifier(criterion=&#x27;entropy&#x27;, max_depth=7)</pre></div></div></div></div></div>"
      ],
      "text/plain": [
       "DecisionTreeClassifier(criterion='entropy', max_depth=7)"
      ]
     },
     "execution_count": 31,
     "metadata": {},
     "output_type": "execute_result"
    }
   ],
   "source": [
    "# Decision Trees\n",
    "dt_model=DecisionTreeClassifier(criterion='entropy',max_depth=7)\n",
    "dt_model.fit(x_train,y_train)"
   ]
  },
  {
   "cell_type": "code",
   "execution_count": 32,
   "id": "c0e5eb5b",
   "metadata": {
    "execution": {
     "iopub.execute_input": "2024-01-22T14:39:00.343380Z",
     "iopub.status.busy": "2024-01-22T14:39:00.343111Z",
     "iopub.status.idle": "2024-01-22T14:39:00.356806Z",
     "shell.execute_reply": "2024-01-22T14:39:00.355678Z"
    },
    "papermill": {
     "duration": 0.036148,
     "end_time": "2024-01-22T14:39:00.358929",
     "exception": false,
     "start_time": "2024-01-22T14:39:00.322781",
     "status": "completed"
    },
    "tags": []
   },
   "outputs": [
    {
     "name": "stdout",
     "output_type": "stream",
     "text": [
      "accuracy of train data is =  0.9117951073848628\n"
     ]
    }
   ],
   "source": [
    "print('accuracy of train data is = ',dt_model.score(x_train,y_train))"
   ]
  },
  {
   "cell_type": "code",
   "execution_count": 33,
   "id": "df08ed2a",
   "metadata": {
    "execution": {
     "iopub.execute_input": "2024-01-22T14:39:00.398637Z",
     "iopub.status.busy": "2024-01-22T14:39:00.398321Z",
     "iopub.status.idle": "2024-01-22T14:39:00.405853Z",
     "shell.execute_reply": "2024-01-22T14:39:00.404865Z"
    },
    "papermill": {
     "duration": 0.02974,
     "end_time": "2024-01-22T14:39:00.407921",
     "exception": false,
     "start_time": "2024-01-22T14:39:00.378181",
     "status": "completed"
    },
    "tags": []
   },
   "outputs": [
    {
     "name": "stdout",
     "output_type": "stream",
     "text": [
      "accuracy of test data is =  0.8125\n"
     ]
    }
   ],
   "source": [
    "print('accuracy of test data is = ',dt_model.score(x_test,y_test))"
   ]
  },
  {
   "cell_type": "code",
   "execution_count": 34,
   "id": "f915c8ca",
   "metadata": {
    "execution": {
     "iopub.execute_input": "2024-01-22T14:39:00.449266Z",
     "iopub.status.busy": "2024-01-22T14:39:00.448997Z",
     "iopub.status.idle": "2024-01-22T14:39:10.687262Z",
     "shell.execute_reply": "2024-01-22T14:39:10.686328Z"
    },
    "papermill": {
     "duration": 10.26147,
     "end_time": "2024-01-22T14:39:10.689526",
     "exception": false,
     "start_time": "2024-01-22T14:39:00.428056",
     "status": "completed"
    },
    "tags": []
   },
   "outputs": [
    {
     "data": {
      "image/png": "[encoded data removed]",
      "text/plain": [
       "<Figure size 640x480 with 1 Axes>"
      ]
     },
     "metadata": {},
     "output_type": "display_data"
    }
   ],
   "source": [
    "#plotting the tree\n",
    "tree.plot_tree(dt_model,feature_names=x_train.columns);"
   ]
  },
  {
   "cell_type": "code",
   "execution_count": 35,
   "id": "b4fdb707",
   "metadata": {
    "execution": {
     "iopub.execute_input": "2024-01-22T14:39:10.731881Z",
     "iopub.status.busy": "2024-01-22T14:39:10.731577Z",
     "iopub.status.idle": "2024-01-22T14:39:11.333149Z",
     "shell.execute_reply": "2024-01-22T14:39:11.332264Z"
    },
    "papermill": {
     "duration": 0.625088,
     "end_time": "2024-01-22T14:39:11.335244",
     "exception": false,
     "start_time": "2024-01-22T14:39:10.710156",
     "status": "completed"
    },
    "tags": []
   },
   "outputs": [
    {
     "data": {
      "text/html": [
       "<style>#sk-container-id-5 {color: black;background-color: white;}#sk-container-id-5 pre{padding: 0;}#sk-container-id-5 div.sk-toggleable {background-color: white;}#sk-container-id-5 label.sk-toggleable__label {cursor: pointer;display: block;width: 100%;margin-bottom: 0;padding: 0.3em;box-sizing: border-box;text-align: center;}#sk-container-id-5 label.sk-toggleable__label-arrow:before {content: \"▸\";float: left;margin-right: 0.25em;color: #696969;}#sk-container-id-5 label.sk-toggleable__label-arrow:hover:before {color: black;}#sk-container-id-5 div.sk-estimator:hover label.sk-toggleable__label-arrow:before {color: black;}#sk-container-id-5 div.sk-toggleable__content {max-height: 0;max-width: 0;overflow: hidden;text-align: left;background-color: #f0f8ff;}#sk-container-id-5 div.sk-toggleable__content pre {margin: 0.2em;color: black;border-radius: 0.25em;background-color: #f0f8ff;}#sk-container-id-5 input.sk-toggleable__control:checked~div.sk-toggleable__content {max-height: 200px;max-width: 100%;overflow: auto;}#sk-container-id-5 input.sk-toggleable__control:checked~label.sk-toggleable__label-arrow:before {content: \"▾\";}#sk-container-id-5 div.sk-estimator input.sk-toggleable__control:checked~label.sk-toggleable__label {background-color: #d4ebff;}#sk-container-id-5 div.sk-label input.sk-toggleable__control:checked~label.sk-toggleable__label {background-color: #d4ebff;}#sk-container-id-5 input.sk-hidden--visually {border: 0;clip: rect(1px 1px 1px 1px);clip: rect(1px, 1px, 1px, 1px);height: 1px;margin: -1px;overflow: hidden;padding: 0;position: absolute;width: 1px;}#sk-container-id-5 div.sk-estimator {font-family: monospace;background-color: #f0f8ff;border: 1px dotted black;border-radius: 0.25em;box-sizing: border-box;margin-bottom: 0.5em;}#sk-container-id-5 div.sk-estimator:hover {background-color: #d4ebff;}#sk-container-id-5 div.sk-parallel-item::after {content: \"\";width: 100%;border-bottom: 1px solid gray;flex-grow: 1;}#sk-container-id-5 div.sk-label:hover label.sk-toggleable__label {background-color: #d4ebff;}#sk-container-id-5 div.sk-serial::before {content: \"\";position: absolute;border-left: 1px solid gray;box-sizing: border-box;top: 0;bottom: 0;left: 50%;z-index: 0;}#sk-container-id-5 div.sk-serial {display: flex;flex-direction: column;align-items: center;background-color: white;padding-right: 0.2em;padding-left: 0.2em;position: relative;}#sk-container-id-5 div.sk-item {position: relative;z-index: 1;}#sk-container-id-5 div.sk-parallel {display: flex;align-items: stretch;justify-content: center;background-color: white;position: relative;}#sk-container-id-5 div.sk-item::before, #sk-container-id-5 div.sk-parallel-item::before {content: \"\";position: absolute;border-left: 1px solid gray;box-sizing: border-box;top: 0;bottom: 0;left: 50%;z-index: -1;}#sk-container-id-5 div.sk-parallel-item {display: flex;flex-direction: column;z-index: 1;position: relative;background-color: white;}#sk-container-id-5 div.sk-parallel-item:first-child::after {align-self: flex-end;width: 50%;}#sk-container-id-5 div.sk-parallel-item:last-child::after {align-self: flex-start;width: 50%;}#sk-container-id-5 div.sk-parallel-item:only-child::after {width: 0;}#sk-container-id-5 div.sk-dashed-wrapped {border: 1px dashed gray;margin: 0 0.4em 0.5em 0.4em;box-sizing: border-box;padding-bottom: 0.4em;background-color: white;}#sk-container-id-5 div.sk-label label {font-family: monospace;font-weight: bold;display: inline-block;line-height: 1.2em;}#sk-container-id-5 div.sk-label-container {text-align: center;}#sk-container-id-5 div.sk-container {/* jupyter's `normalize.less` sets `[hidden] { display: none; }` but bootstrap.min.css set `[hidden] { display: none !important; }` so we also need the `!important` here to be able to override the default hidden behavior on the sphinx rendered scikit-learn.org. See: https://github.com/scikit-learn/scikit-learn/issues/21755 */display: inline-block !important;position: relative;}#sk-container-id-5 div.sk-text-repr-fallback {display: none;}</style><div id=\"sk-container-id-5\" class=\"sk-top-container\"><div class=\"sk-text-repr-fallback\"><pre>RandomForestClassifier(max_depth=8)</pre><b>In a Jupyter environment, please rerun this cell to show the HTML representation or trust the notebook. <br />On GitHub, the HTML representation is unable to render, please try loading this page with nbviewer.org.</b></div><div class=\"sk-container\" hidden><div class=\"sk-item\"><div class=\"sk-estimator sk-toggleable\"><input class=\"sk-toggleable__control sk-hidden--visually\" id=\"sk-estimator-id-5\" type=\"checkbox\" checked><label for=\"sk-estimator-id-5\" class=\"sk-toggleable__label sk-toggleable__label-arrow\">RandomForestClassifier</label><div class=\"sk-toggleable__content\"><pre>RandomForestClassifier(max_depth=8)</pre></div></div></div></div></div>"
      ],
      "text/plain": [
       "RandomForestClassifier(max_depth=8)"
      ]
     },
     "execution_count": 35,
     "metadata": {},
     "output_type": "execute_result"
    }
   ],
   "source": [
    "#Random Forest\n",
    "rf_model=RandomForestClassifier(max_depth=8)\n",
    "rf_model.fit(x_train,y_train)"
   ]
  },
  {
   "cell_type": "code",
   "execution_count": 36,
   "id": "9cfd5abf",
   "metadata": {
    "execution": {
     "iopub.execute_input": "2024-01-22T14:39:11.379122Z",
     "iopub.status.busy": "2024-01-22T14:39:11.378826Z",
     "iopub.status.idle": "2024-01-22T14:39:11.911522Z",
     "shell.execute_reply": "2024-01-22T14:39:11.910233Z"
    },
    "papermill": {
     "duration": 0.557232,
     "end_time": "2024-01-22T14:39:11.913864",
     "exception": false,
     "start_time": "2024-01-22T14:39:11.356632",
     "status": "completed"
    },
    "tags": []
   },
   "outputs": [
    {
     "name": "stdout",
     "output_type": "stream",
     "text": [
      "accuracy of train data is =  0.9191455151027909\n"
     ]
    }
   ],
   "source": [
    "print('accuracy of train data is = ',rf_model.score(x_train,y_train))"
   ]
  },
  {
   "cell_type": "code",
   "execution_count": 37,
   "id": "34646829",
   "metadata": {
    "execution": {
     "iopub.execute_input": "2024-01-22T14:39:11.960267Z",
     "iopub.status.busy": "2024-01-22T14:39:11.959605Z",
     "iopub.status.idle": "2024-01-22T14:39:11.979806Z",
     "shell.execute_reply": "2024-01-22T14:39:11.978837Z"
    },
    "papermill": {
     "duration": 0.045269,
     "end_time": "2024-01-22T14:39:11.981873",
     "exception": false,
     "start_time": "2024-01-22T14:39:11.936604",
     "status": "completed"
    },
    "tags": []
   },
   "outputs": [
    {
     "name": "stdout",
     "output_type": "stream",
     "text": [
      "accuracy of train data is =  0.8125\n"
     ]
    }
   ],
   "source": [
    "print('accuracy of train data is = ',rf_model.score(x_test,y_test))"
   ]
  },
  {
   "cell_type": "code",
   "execution_count": 38,
   "id": "c07075d6",
   "metadata": {
    "execution": {
     "iopub.execute_input": "2024-01-22T14:39:12.026877Z",
     "iopub.status.busy": "2024-01-22T14:39:12.026621Z",
     "iopub.status.idle": "2024-01-22T14:39:13.305537Z",
     "shell.execute_reply": "2024-01-22T14:39:13.304551Z"
    },
    "papermill": {
     "duration": 1.303545,
     "end_time": "2024-01-22T14:39:13.307824",
     "exception": false,
     "start_time": "2024-01-22T14:39:12.004279",
     "status": "completed"
    },
    "tags": []
   },
   "outputs": [],
   "source": [
    "#Artificial Neural Networks\n",
    "model=Sequential()\n",
    "\n",
    "model.add(Dense(512,activation='relu',input_shape=(17,)))\n",
    "model.add(Dense(256,activation='relu'))\n",
    "model.add(Dense(256,activation='relu'))\n",
    "model.add(Dense(128,activation='relu'))\n",
    "model.add(Dense(64,activation='relu'))\n",
    "model.add(Dense(193,activation='softmax'))"
   ]
  },
  {
   "cell_type": "code",
   "execution_count": 39,
   "id": "0c16c85a",
   "metadata": {
    "execution": {
     "iopub.execute_input": "2024-01-22T14:39:13.350752Z",
     "iopub.status.busy": "2024-01-22T14:39:13.350186Z",
     "iopub.status.idle": "2024-01-22T14:39:13.372256Z",
     "shell.execute_reply": "2024-01-22T14:39:13.371364Z"
    },
    "papermill": {
     "duration": 0.051412,
     "end_time": "2024-01-22T14:39:13.380105",
     "exception": false,
     "start_time": "2024-01-22T14:39:13.328693",
     "status": "completed"
    },
    "tags": []
   },
   "outputs": [
    {
     "name": "stdout",
     "output_type": "stream",
     "text": [
      "Model: \"sequential\"\n",
      "_________________________________________________________________\n",
      " Layer (type)                Output Shape              Param #   \n",
      "=================================================================\n",
      " dense (Dense)               (None, 512)               9216      \n",
      "                                                                 \n",
      " dense_1 (Dense)             (None, 256)               131328    \n",
      "                                                                 \n",
      " dense_2 (Dense)             (None, 256)               65792     \n",
      "                                                                 \n",
      " dense_3 (Dense)             (None, 128)               32896     \n",
      "                                                                 \n",
      " dense_4 (Dense)             (None, 64)                8256      \n",
      "                                                                 \n",
      " dense_5 (Dense)             (None, 193)               12545     \n",
      "                                                                 \n",
      "=================================================================\n",
      "Total params: 260033 (1015.75 KB)\n",
      "Trainable params: 260033 (1015.75 KB)\n",
      "Non-trainable params: 0 (0.00 Byte)\n",
      "_________________________________________________________________\n"
     ]
    }
   ],
   "source": [
    "model.summary()"
   ]
  },
  {
   "cell_type": "code",
   "execution_count": 40,
   "id": "3674e541",
   "metadata": {
    "execution": {
     "iopub.execute_input": "2024-01-22T14:39:13.425702Z",
     "iopub.status.busy": "2024-01-22T14:39:13.425394Z",
     "iopub.status.idle": "2024-01-22T14:39:13.440588Z",
     "shell.execute_reply": "2024-01-22T14:39:13.439654Z"
    },
    "papermill": {
     "duration": 0.03993,
     "end_time": "2024-01-22T14:39:13.442448",
     "exception": false,
     "start_time": "2024-01-22T14:39:13.402518",
     "status": "completed"
    },
    "tags": []
   },
   "outputs": [],
   "source": [
    "model.compile(loss='categorical_crossentropy',metrics=['accuracy'])"
   ]
  },
  {
   "cell_type": "code",
   "execution_count": 41,
   "id": "1e8017a8",
   "metadata": {
    "execution": {
     "iopub.execute_input": "2024-01-22T14:39:13.487768Z",
     "iopub.status.busy": "2024-01-22T14:39:13.487471Z",
     "iopub.status.idle": "2024-01-22T14:39:13.492716Z",
     "shell.execute_reply": "2024-01-22T14:39:13.491891Z"
    },
    "papermill": {
     "duration": 0.029822,
     "end_time": "2024-01-22T14:39:13.494567",
     "exception": false,
     "start_time": "2024-01-22T14:39:13.464745",
     "status": "completed"
    },
    "tags": []
   },
   "outputs": [
    {
     "data": {
      "text/plain": [
       "(8707,)"
      ]
     },
     "execution_count": 41,
     "metadata": {},
     "output_type": "execute_result"
    }
   ],
   "source": [
    "y_train.shape"
   ]
  },
  {
   "cell_type": "code",
   "execution_count": 42,
   "id": "88635cbb",
   "metadata": {
    "execution": {
     "iopub.execute_input": "2024-01-22T14:39:13.542534Z",
     "iopub.status.busy": "2024-01-22T14:39:13.542224Z",
     "iopub.status.idle": "2024-01-22T14:39:13.549778Z",
     "shell.execute_reply": "2024-01-22T14:39:13.548975Z"
    },
    "papermill": {
     "duration": 0.03353,
     "end_time": "2024-01-22T14:39:13.551725",
     "exception": false,
     "start_time": "2024-01-22T14:39:13.518195",
     "status": "completed"
    },
    "tags": []
   },
   "outputs": [
    {
     "data": {
      "text/plain": [
       "0    0\n",
       "1    0\n",
       "2    0\n",
       "3    0\n",
       "4    0\n",
       "Name: Score_point, dtype: int64"
      ]
     },
     "execution_count": 42,
     "metadata": {},
     "output_type": "execute_result"
    }
   ],
   "source": [
    "y_train=pd.to_numeric(y_train,errors='coerce').fillna(0)\n",
    "y_train[:5]"
   ]
  },
  {
   "cell_type": "code",
   "execution_count": 43,
   "id": "c933c27c",
   "metadata": {
    "execution": {
     "iopub.execute_input": "2024-01-22T14:39:13.602369Z",
     "iopub.status.busy": "2024-01-22T14:39:13.601891Z",
     "iopub.status.idle": "2024-01-22T14:39:13.610444Z",
     "shell.execute_reply": "2024-01-22T14:39:13.609531Z"
    },
    "papermill": {
     "duration": 0.036818,
     "end_time": "2024-01-22T14:39:13.612675",
     "exception": false,
     "start_time": "2024-01-22T14:39:13.575857",
     "status": "completed"
    },
    "tags": []
   },
   "outputs": [],
   "source": [
    "y_train=to_categorical(y_train)"
   ]
  },
  {
   "cell_type": "code",
   "execution_count": 44,
   "id": "f9e73d50",
   "metadata": {
    "execution": {
     "iopub.execute_input": "2024-01-22T14:39:13.659198Z",
     "iopub.status.busy": "2024-01-22T14:39:13.658941Z",
     "iopub.status.idle": "2024-01-22T14:39:13.664962Z",
     "shell.execute_reply": "2024-01-22T14:39:13.664087Z"
    },
    "papermill": {
     "duration": 0.03119,
     "end_time": "2024-01-22T14:39:13.666859",
     "exception": false,
     "start_time": "2024-01-22T14:39:13.635669",
     "status": "completed"
    },
    "tags": []
   },
   "outputs": [
    {
     "data": {
      "text/plain": [
       "((8707, 193), (8707, 17))"
      ]
     },
     "execution_count": 44,
     "metadata": {},
     "output_type": "execute_result"
    }
   ],
   "source": [
    "y_train.shape,x_train.shape"
   ]
  },
  {
   "cell_type": "code",
   "execution_count": 45,
   "id": "679ee110",
   "metadata": {
    "execution": {
     "iopub.execute_input": "2024-01-22T14:39:13.715765Z",
     "iopub.status.busy": "2024-01-22T14:39:13.714982Z",
     "iopub.status.idle": "2024-01-22T14:39:24.892135Z",
     "shell.execute_reply": "2024-01-22T14:39:24.891189Z"
    },
    "papermill": {
     "duration": 11.20392,
     "end_time": "2024-01-22T14:39:24.894114",
     "exception": false,
     "start_time": "2024-01-22T14:39:13.690194",
     "status": "completed"
    },
    "tags": []
   },
   "outputs": [
    {
     "name": "stdout",
     "output_type": "stream",
     "text": [
      "Epoch 1/15\n",
      "55/55 [==============================] - 4s 10ms/step - loss: 1.2130 - accuracy: 0.7858 - val_loss: 1.6549 - val_accuracy: 0.6831\n",
      "Epoch 2/15\n",
      "55/55 [==============================] - 0s 6ms/step - loss: 0.7138 - accuracy: 0.8517 - val_loss: 1.4377 - val_accuracy: 0.7055\n",
      "Epoch 3/15\n",
      "55/55 [==============================] - 0s 6ms/step - loss: 0.6212 - accuracy: 0.8747 - val_loss: 1.4720 - val_accuracy: 0.6860\n",
      "Epoch 4/15\n",
      "55/55 [==============================] - 0s 6ms/step - loss: 0.5868 - accuracy: 0.8804 - val_loss: 1.3176 - val_accuracy: 0.7245\n",
      "Epoch 5/15\n",
      "55/55 [==============================] - 0s 6ms/step - loss: 0.5620 - accuracy: 0.8874 - val_loss: 1.4368 - val_accuracy: 0.7032\n",
      "Epoch 6/15\n",
      "55/55 [==============================] - 0s 6ms/step - loss: 0.5408 - accuracy: 0.8866 - val_loss: 1.2792 - val_accuracy: 0.7354\n",
      "Epoch 7/15\n",
      "55/55 [==============================] - 0s 6ms/step - loss: 0.5331 - accuracy: 0.8882 - val_loss: 1.3725 - val_accuracy: 0.6877\n",
      "Epoch 8/15\n",
      "55/55 [==============================] - 0s 6ms/step - loss: 0.5145 - accuracy: 0.8915 - val_loss: 1.2582 - val_accuracy: 0.7296\n",
      "Epoch 9/15\n",
      "55/55 [==============================] - 0s 6ms/step - loss: 0.4940 - accuracy: 0.8955 - val_loss: 1.2507 - val_accuracy: 0.7273\n",
      "Epoch 10/15\n",
      "55/55 [==============================] - 0s 6ms/step - loss: 0.4887 - accuracy: 0.8919 - val_loss: 1.2814 - val_accuracy: 0.7411\n",
      "Epoch 11/15\n",
      "55/55 [==============================] - 0s 6ms/step - loss: 0.4961 - accuracy: 0.8916 - val_loss: 1.2828 - val_accuracy: 0.7365\n",
      "Epoch 12/15\n",
      "55/55 [==============================] - 0s 6ms/step - loss: 0.4572 - accuracy: 0.8995 - val_loss: 1.2511 - val_accuracy: 0.7359\n",
      "Epoch 13/15\n",
      "55/55 [==============================] - 0s 6ms/step - loss: 0.4635 - accuracy: 0.8923 - val_loss: 1.2205 - val_accuracy: 0.7394\n",
      "Epoch 14/15\n",
      "55/55 [==============================] - 0s 6ms/step - loss: 0.4440 - accuracy: 0.8983 - val_loss: 1.2433 - val_accuracy: 0.7313\n",
      "Epoch 15/15\n",
      "55/55 [==============================] - 0s 6ms/step - loss: 0.4533 - accuracy: 0.8897 - val_loss: 1.2421 - val_accuracy: 0.7348\n"
     ]
    },
    {
     "data": {
      "text/plain": [
       "<keras.src.callbacks.History at 0x7fa4e97b78e0>"
      ]
     },
     "execution_count": 45,
     "metadata": {},
     "output_type": "execute_result"
    }
   ],
   "source": [
    "model.fit(x_train,y_train,batch_size=128,epochs=15,validation_split=0.2)"
   ]
  },
  {
   "cell_type": "code",
   "execution_count": 46,
   "id": "f24b1ff6",
   "metadata": {
    "execution": {
     "iopub.execute_input": "2024-01-22T14:39:24.956603Z",
     "iopub.status.busy": "2024-01-22T14:39:24.956293Z",
     "iopub.status.idle": "2024-01-22T14:39:25.807463Z",
     "shell.execute_reply": "2024-01-22T14:39:25.806626Z"
    },
    "papermill": {
     "duration": 0.884555,
     "end_time": "2024-01-22T14:39:25.809632",
     "exception": false,
     "start_time": "2024-01-22T14:39:24.925077",
     "status": "completed"
    },
    "tags": []
   },
   "outputs": [
    {
     "name": "stdout",
     "output_type": "stream",
     "text": [
      "273/273 [==============================] - 1s 3ms/step - loss: 0.5827 - accuracy: 0.8671\n"
     ]
    },
    {
     "data": {
      "text/plain": [
       "[0.5826794505119324, 0.8671184182167053]"
      ]
     },
     "execution_count": 46,
     "metadata": {},
     "output_type": "execute_result"
    }
   ],
   "source": [
    "model.evaluate(x_train,y_train)"
   ]
  },
  {
   "cell_type": "code",
   "execution_count": 47,
   "id": "d8143666",
   "metadata": {
    "execution": {
     "iopub.execute_input": "2024-01-22T14:39:25.877409Z",
     "iopub.status.busy": "2024-01-22T14:39:25.877117Z",
     "iopub.status.idle": "2024-01-22T14:39:25.884621Z",
     "shell.execute_reply": "2024-01-22T14:39:25.883657Z"
    },
    "papermill": {
     "duration": 0.043716,
     "end_time": "2024-01-22T14:39:25.886494",
     "exception": false,
     "start_time": "2024-01-22T14:39:25.842778",
     "status": "completed"
    },
    "tags": []
   },
   "outputs": [
    {
     "data": {
      "text/plain": [
       "0    0\n",
       "1    0\n",
       "2    0\n",
       "3    0\n",
       "4    9\n",
       "Name: Score_point, dtype: int64"
      ]
     },
     "execution_count": 47,
     "metadata": {},
     "output_type": "execute_result"
    }
   ],
   "source": [
    "y_test=pd.to_numeric(y_test,errors='coerce').fillna(0)\n",
    "y_test[:5]"
   ]
  },
  {
   "cell_type": "code",
   "execution_count": 48,
   "id": "2cb984b3",
   "metadata": {
    "execution": {
     "iopub.execute_input": "2024-01-22T14:39:25.953386Z",
     "iopub.status.busy": "2024-01-22T14:39:25.952808Z",
     "iopub.status.idle": "2024-01-22T14:39:25.957393Z",
     "shell.execute_reply": "2024-01-22T14:39:25.956500Z"
    },
    "papermill": {
     "duration": 0.040107,
     "end_time": "2024-01-22T14:39:25.959482",
     "exception": false,
     "start_time": "2024-01-22T14:39:25.919375",
     "status": "completed"
    },
    "tags": []
   },
   "outputs": [],
   "source": [
    "y_test=to_categorical(y_test)"
   ]
  },
  {
   "cell_type": "code",
   "execution_count": 49,
   "id": "cd81defe",
   "metadata": {
    "execution": {
     "iopub.execute_input": "2024-01-22T14:39:26.028068Z",
     "iopub.status.busy": "2024-01-22T14:39:26.027511Z",
     "iopub.status.idle": "2024-01-22T14:39:26.033299Z",
     "shell.execute_reply": "2024-01-22T14:39:26.032525Z"
    },
    "papermill": {
     "duration": 0.041777,
     "end_time": "2024-01-22T14:39:26.035112",
     "exception": false,
     "start_time": "2024-01-22T14:39:25.993335",
     "status": "completed"
    },
    "tags": []
   },
   "outputs": [
    {
     "data": {
      "text/plain": [
       "((48, 10), (48, 17))"
      ]
     },
     "execution_count": 49,
     "metadata": {},
     "output_type": "execute_result"
    }
   ],
   "source": [
    "y_test.shape,x_test.shape"
   ]
  },
  {
   "cell_type": "code",
   "execution_count": null,
   "id": "9e746f59",
   "metadata": {
    "papermill": {
     "duration": 0.032812,
     "end_time": "2024-01-22T14:39:26.100553",
     "exception": false,
     "start_time": "2024-01-22T14:39:26.067741",
     "status": "completed"
    },
    "tags": []
   },
   "outputs": [],
   "source": []
  }
 ],
 "metadata": {
  "kaggle": {
   "accelerator": "nvidiaTeslaT4",
   "dataSources": [
    {
     "datasetId": 1829132,
     "sourceId": 2984474,
     "sourceType": "datasetVersion"
    }
   ],
   "dockerImageVersionId": 30636,
   "isGpuEnabled": true,
   "isInternetEnabled": true,
   "language": "python",
   "sourceType": "notebook"
  },
  "kernelspec": {
   "display_name": "Python 3",
   "language": "python",
   "name": "python3"
  },
  "language_info": {
   "codemirror_mode": {
    "name": "ipython",
    "version": 3
   },
   "file_extension": ".py",
   "mimetype": "text/x-python",
   "name": "python",
   "nbconvert_exporter": "python",
   "pygments_lexer": "ipython3",
   "version": "3.10.12"
  },
  "papermill": {
   "default_parameters": {},
   "duration": 72.801423,
   "end_time": "2024-01-22T14:39:29.174432",
   "environment_variables": {},
   "exception": null,
   "input_path": "__notebook__.ipynb",
   "output_path": "__notebook__.ipynb",
   "parameters": {},
   "start_time": "2024-01-22T14:38:16.373009",
   "version": "2.4.0"
  }
 },
 "nbformat": 4,
 "nbformat_minor": 5
}
